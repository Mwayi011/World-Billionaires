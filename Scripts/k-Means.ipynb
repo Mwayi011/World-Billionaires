{
 "cells": [
  {
   "cell_type": "markdown",
   "id": "cb473971",
   "metadata": {},
   "source": [
    "# 6.5 Machine Learning Part 2"
   ]
  },
  {
   "cell_type": "markdown",
   "id": "df12d547",
   "metadata": {},
   "source": [
    "## This script contains the following:\n",
    "\n",
    "### 1. Importing libraries and data and removing categorical columns\n",
    "### 2. Standardizing the data\n",
    "### 3. The elbow technique\n",
    "### 4. k-Means clustering\n",
    "### 5. Descriptive statistics and conclusions"
   ]
  },
  {
   "cell_type": "markdown",
   "id": "b7565299",
   "metadata": {},
   "source": [
    "### 1. Importing libraries and data and removing categorical columns"
   ]
  },
  {
   "cell_type": "code",
   "execution_count": 1,
   "id": "1656243a",
   "metadata": {},
   "outputs": [],
   "source": [
    "import pandas as pd\n",
    "from sklearn.preprocessing import StandardScaler\n",
    "import numpy as np\n",
    "import seaborn as sns\n",
    "import matplotlib\n",
    "import matplotlib.pyplot as plt\n",
    "import os\n",
    "import sklearn\n",
    "from sklearn.cluster import KMeans\n",
    "import pylab as pl\n",
    "import scipy \n",
    "from scipy import stats "
   ]
  },
  {
   "cell_type": "code",
   "execution_count": 2,
   "id": "858c2fb3",
   "metadata": {},
   "outputs": [],
   "source": [
    "# Display graphs in notebook without the need to \"call\" them specifically.\n",
    "\n",
    "%matplotlib inline"
   ]
  },
  {
   "cell_type": "code",
   "execution_count": 3,
   "id": "8fc60198",
   "metadata": {},
   "outputs": [],
   "source": [
    "path = r'C:\\Users\\Karen\\Documents\\Personal\\Data Analytics\\Career Foundry\\Achievement 6'"
   ]
  },
  {
   "cell_type": "code",
   "execution_count": 4,
   "id": "d41621dc",
   "metadata": {},
   "outputs": [],
   "source": [
    "df = pd.read_csv(os.path.join(path, 'Data', 'Prepared Data', 'billionaires_updated1.csv'), index_col = None)"
   ]
  },
  {
   "cell_type": "code",
   "execution_count": 5,
   "id": "0f487b3f",
   "metadata": {},
   "outputs": [],
   "source": [
    "# Removing the limit to columns displayed\n",
    "\n",
    "pd.options.display.max_columns = None"
   ]
  },
  {
   "cell_type": "code",
   "execution_count": 6,
   "id": "08cde1fe",
   "metadata": {},
   "outputs": [
    {
     "data": {
      "text/plain": [
       "(2640, 27)"
      ]
     },
     "execution_count": 6,
     "metadata": {},
     "output_type": "execute_result"
    }
   ],
   "source": [
    "df.shape"
   ]
  },
  {
   "cell_type": "code",
   "execution_count": 7,
   "id": "448c0f11",
   "metadata": {},
   "outputs": [
    {
     "data": {
      "text/html": [
       "<div>\n",
       "<style scoped>\n",
       "    .dataframe tbody tr th:only-of-type {\n",
       "        vertical-align: middle;\n",
       "    }\n",
       "\n",
       "    .dataframe tbody tr th {\n",
       "        vertical-align: top;\n",
       "    }\n",
       "\n",
       "    .dataframe thead th {\n",
       "        text-align: right;\n",
       "    }\n",
       "</style>\n",
       "<table border=\"1\" class=\"dataframe\">\n",
       "  <thead>\n",
       "    <tr style=\"text-align: right;\">\n",
       "      <th></th>\n",
       "      <th>Unnamed: 0</th>\n",
       "      <th>rank</th>\n",
       "      <th>final_worth</th>\n",
       "      <th>name</th>\n",
       "      <th>age</th>\n",
       "      <th>country</th>\n",
       "      <th>city</th>\n",
       "      <th>industries</th>\n",
       "      <th>citizenship_country</th>\n",
       "      <th>self_made</th>\n",
       "      <th>gender</th>\n",
       "      <th>state</th>\n",
       "      <th>state_region</th>\n",
       "      <th>cpi_country</th>\n",
       "      <th>cpi_change_country</th>\n",
       "      <th>gdp_country</th>\n",
       "      <th>tertiary_ed_enroll</th>\n",
       "      <th>primary_ed_enroll</th>\n",
       "      <th>life_expectancy_country</th>\n",
       "      <th>total_tax_rate_country</th>\n",
       "      <th>population_country</th>\n",
       "      <th>latitude_country</th>\n",
       "      <th>longitude_country</th>\n",
       "      <th>industries_total</th>\n",
       "      <th>country_total</th>\n",
       "      <th>wealth_category</th>\n",
       "      <th>age_category</th>\n",
       "    </tr>\n",
       "  </thead>\n",
       "  <tbody>\n",
       "    <tr>\n",
       "      <th>0</th>\n",
       "      <td>0</td>\n",
       "      <td>1</td>\n",
       "      <td>211000</td>\n",
       "      <td>Bernard Arnault &amp; family</td>\n",
       "      <td>74.0</td>\n",
       "      <td>France</td>\n",
       "      <td>Paris</td>\n",
       "      <td>Fashion &amp; Retail</td>\n",
       "      <td>France</td>\n",
       "      <td>False</td>\n",
       "      <td>M</td>\n",
       "      <td>NaN</td>\n",
       "      <td>NaN</td>\n",
       "      <td>110.05</td>\n",
       "      <td>1.1</td>\n",
       "      <td>2.715518e+12</td>\n",
       "      <td>65.6</td>\n",
       "      <td>102.5</td>\n",
       "      <td>82.5</td>\n",
       "      <td>60.7</td>\n",
       "      <td>67059887.0</td>\n",
       "      <td>46.227638</td>\n",
       "      <td>2.213749</td>\n",
       "      <td>266</td>\n",
       "      <td>35.0</td>\n",
       "      <td>&gt;=50B</td>\n",
       "      <td>old</td>\n",
       "    </tr>\n",
       "    <tr>\n",
       "      <th>1</th>\n",
       "      <td>1</td>\n",
       "      <td>2</td>\n",
       "      <td>180000</td>\n",
       "      <td>Elon Musk</td>\n",
       "      <td>51.0</td>\n",
       "      <td>United States</td>\n",
       "      <td>Austin</td>\n",
       "      <td>Automotive</td>\n",
       "      <td>United States</td>\n",
       "      <td>True</td>\n",
       "      <td>M</td>\n",
       "      <td>Texas</td>\n",
       "      <td>South</td>\n",
       "      <td>117.24</td>\n",
       "      <td>7.5</td>\n",
       "      <td>2.142770e+13</td>\n",
       "      <td>88.2</td>\n",
       "      <td>101.8</td>\n",
       "      <td>78.5</td>\n",
       "      <td>36.6</td>\n",
       "      <td>328239523.0</td>\n",
       "      <td>37.090240</td>\n",
       "      <td>-95.712891</td>\n",
       "      <td>73</td>\n",
       "      <td>754.0</td>\n",
       "      <td>&gt;=50B</td>\n",
       "      <td>middle-aged</td>\n",
       "    </tr>\n",
       "    <tr>\n",
       "      <th>2</th>\n",
       "      <td>2</td>\n",
       "      <td>3</td>\n",
       "      <td>114000</td>\n",
       "      <td>Jeff Bezos</td>\n",
       "      <td>59.0</td>\n",
       "      <td>United States</td>\n",
       "      <td>Medina</td>\n",
       "      <td>Technology</td>\n",
       "      <td>United States</td>\n",
       "      <td>True</td>\n",
       "      <td>M</td>\n",
       "      <td>Washington</td>\n",
       "      <td>West</td>\n",
       "      <td>117.24</td>\n",
       "      <td>7.5</td>\n",
       "      <td>2.142770e+13</td>\n",
       "      <td>88.2</td>\n",
       "      <td>101.8</td>\n",
       "      <td>78.5</td>\n",
       "      <td>36.6</td>\n",
       "      <td>328239523.0</td>\n",
       "      <td>37.090240</td>\n",
       "      <td>-95.712891</td>\n",
       "      <td>314</td>\n",
       "      <td>754.0</td>\n",
       "      <td>&gt;=50B</td>\n",
       "      <td>middle-aged</td>\n",
       "    </tr>\n",
       "    <tr>\n",
       "      <th>3</th>\n",
       "      <td>3</td>\n",
       "      <td>4</td>\n",
       "      <td>107000</td>\n",
       "      <td>Larry Ellison</td>\n",
       "      <td>78.0</td>\n",
       "      <td>United States</td>\n",
       "      <td>Lanai</td>\n",
       "      <td>Technology</td>\n",
       "      <td>United States</td>\n",
       "      <td>True</td>\n",
       "      <td>M</td>\n",
       "      <td>Hawaii</td>\n",
       "      <td>West</td>\n",
       "      <td>117.24</td>\n",
       "      <td>7.5</td>\n",
       "      <td>2.142770e+13</td>\n",
       "      <td>88.2</td>\n",
       "      <td>101.8</td>\n",
       "      <td>78.5</td>\n",
       "      <td>36.6</td>\n",
       "      <td>328239523.0</td>\n",
       "      <td>37.090240</td>\n",
       "      <td>-95.712891</td>\n",
       "      <td>314</td>\n",
       "      <td>754.0</td>\n",
       "      <td>&gt;=50B</td>\n",
       "      <td>old</td>\n",
       "    </tr>\n",
       "    <tr>\n",
       "      <th>4</th>\n",
       "      <td>4</td>\n",
       "      <td>5</td>\n",
       "      <td>106000</td>\n",
       "      <td>Warren Buffett</td>\n",
       "      <td>92.0</td>\n",
       "      <td>United States</td>\n",
       "      <td>Omaha</td>\n",
       "      <td>Finance &amp; Investments</td>\n",
       "      <td>United States</td>\n",
       "      <td>True</td>\n",
       "      <td>M</td>\n",
       "      <td>Nebraska</td>\n",
       "      <td>Midwest</td>\n",
       "      <td>117.24</td>\n",
       "      <td>7.5</td>\n",
       "      <td>2.142770e+13</td>\n",
       "      <td>88.2</td>\n",
       "      <td>101.8</td>\n",
       "      <td>78.5</td>\n",
       "      <td>36.6</td>\n",
       "      <td>328239523.0</td>\n",
       "      <td>37.090240</td>\n",
       "      <td>-95.712891</td>\n",
       "      <td>372</td>\n",
       "      <td>754.0</td>\n",
       "      <td>&gt;=50B</td>\n",
       "      <td>very old</td>\n",
       "    </tr>\n",
       "  </tbody>\n",
       "</table>\n",
       "</div>"
      ],
      "text/plain": [
       "   Unnamed: 0  rank  final_worth                      name   age  \\\n",
       "0           0     1       211000  Bernard Arnault & family  74.0   \n",
       "1           1     2       180000                 Elon Musk  51.0   \n",
       "2           2     3       114000                Jeff Bezos  59.0   \n",
       "3           3     4       107000             Larry Ellison  78.0   \n",
       "4           4     5       106000            Warren Buffett  92.0   \n",
       "\n",
       "         country    city             industries citizenship_country  \\\n",
       "0         France   Paris       Fashion & Retail              France   \n",
       "1  United States  Austin             Automotive       United States   \n",
       "2  United States  Medina             Technology       United States   \n",
       "3  United States   Lanai             Technology       United States   \n",
       "4  United States   Omaha  Finance & Investments       United States   \n",
       "\n",
       "   self_made gender       state state_region  cpi_country  cpi_change_country  \\\n",
       "0      False      M         NaN          NaN       110.05                 1.1   \n",
       "1       True      M       Texas        South       117.24                 7.5   \n",
       "2       True      M  Washington         West       117.24                 7.5   \n",
       "3       True      M      Hawaii         West       117.24                 7.5   \n",
       "4       True      M    Nebraska      Midwest       117.24                 7.5   \n",
       "\n",
       "    gdp_country  tertiary_ed_enroll  primary_ed_enroll  \\\n",
       "0  2.715518e+12                65.6              102.5   \n",
       "1  2.142770e+13                88.2              101.8   \n",
       "2  2.142770e+13                88.2              101.8   \n",
       "3  2.142770e+13                88.2              101.8   \n",
       "4  2.142770e+13                88.2              101.8   \n",
       "\n",
       "   life_expectancy_country  total_tax_rate_country  population_country  \\\n",
       "0                     82.5                    60.7          67059887.0   \n",
       "1                     78.5                    36.6         328239523.0   \n",
       "2                     78.5                    36.6         328239523.0   \n",
       "3                     78.5                    36.6         328239523.0   \n",
       "4                     78.5                    36.6         328239523.0   \n",
       "\n",
       "   latitude_country  longitude_country  industries_total  country_total  \\\n",
       "0         46.227638           2.213749               266           35.0   \n",
       "1         37.090240         -95.712891                73          754.0   \n",
       "2         37.090240         -95.712891               314          754.0   \n",
       "3         37.090240         -95.712891               314          754.0   \n",
       "4         37.090240         -95.712891               372          754.0   \n",
       "\n",
       "  wealth_category age_category  \n",
       "0           >=50B          old  \n",
       "1           >=50B  middle-aged  \n",
       "2           >=50B  middle-aged  \n",
       "3           >=50B          old  \n",
       "4           >=50B     very old  "
      ]
     },
     "execution_count": 7,
     "metadata": {},
     "output_type": "execute_result"
    }
   ],
   "source": [
    "df.head()"
   ]
  },
  {
   "cell_type": "code",
   "execution_count": 8,
   "id": "1867c064",
   "metadata": {},
   "outputs": [],
   "source": [
    "# Deleting the extra index column\n",
    "\n",
    "df.drop(columns = 'Unnamed: 0', inplace = True)"
   ]
  },
  {
   "cell_type": "code",
   "execution_count": 9,
   "id": "6bc96669",
   "metadata": {},
   "outputs": [
    {
     "data": {
      "text/html": [
       "<div>\n",
       "<style scoped>\n",
       "    .dataframe tbody tr th:only-of-type {\n",
       "        vertical-align: middle;\n",
       "    }\n",
       "\n",
       "    .dataframe tbody tr th {\n",
       "        vertical-align: top;\n",
       "    }\n",
       "\n",
       "    .dataframe thead th {\n",
       "        text-align: right;\n",
       "    }\n",
       "</style>\n",
       "<table border=\"1\" class=\"dataframe\">\n",
       "  <thead>\n",
       "    <tr style=\"text-align: right;\">\n",
       "      <th></th>\n",
       "      <th>rank</th>\n",
       "      <th>final_worth</th>\n",
       "      <th>name</th>\n",
       "      <th>age</th>\n",
       "      <th>country</th>\n",
       "      <th>city</th>\n",
       "      <th>industries</th>\n",
       "      <th>citizenship_country</th>\n",
       "      <th>self_made</th>\n",
       "      <th>gender</th>\n",
       "      <th>state</th>\n",
       "      <th>state_region</th>\n",
       "      <th>cpi_country</th>\n",
       "      <th>cpi_change_country</th>\n",
       "      <th>gdp_country</th>\n",
       "      <th>tertiary_ed_enroll</th>\n",
       "      <th>primary_ed_enroll</th>\n",
       "      <th>life_expectancy_country</th>\n",
       "      <th>total_tax_rate_country</th>\n",
       "      <th>population_country</th>\n",
       "      <th>latitude_country</th>\n",
       "      <th>longitude_country</th>\n",
       "      <th>industries_total</th>\n",
       "      <th>country_total</th>\n",
       "      <th>wealth_category</th>\n",
       "      <th>age_category</th>\n",
       "    </tr>\n",
       "  </thead>\n",
       "  <tbody>\n",
       "    <tr>\n",
       "      <th>0</th>\n",
       "      <td>1</td>\n",
       "      <td>211000</td>\n",
       "      <td>Bernard Arnault &amp; family</td>\n",
       "      <td>74.0</td>\n",
       "      <td>France</td>\n",
       "      <td>Paris</td>\n",
       "      <td>Fashion &amp; Retail</td>\n",
       "      <td>France</td>\n",
       "      <td>False</td>\n",
       "      <td>M</td>\n",
       "      <td>NaN</td>\n",
       "      <td>NaN</td>\n",
       "      <td>110.05</td>\n",
       "      <td>1.1</td>\n",
       "      <td>2.715518e+12</td>\n",
       "      <td>65.6</td>\n",
       "      <td>102.5</td>\n",
       "      <td>82.5</td>\n",
       "      <td>60.7</td>\n",
       "      <td>67059887.0</td>\n",
       "      <td>46.227638</td>\n",
       "      <td>2.213749</td>\n",
       "      <td>266</td>\n",
       "      <td>35.0</td>\n",
       "      <td>&gt;=50B</td>\n",
       "      <td>old</td>\n",
       "    </tr>\n",
       "    <tr>\n",
       "      <th>1</th>\n",
       "      <td>2</td>\n",
       "      <td>180000</td>\n",
       "      <td>Elon Musk</td>\n",
       "      <td>51.0</td>\n",
       "      <td>United States</td>\n",
       "      <td>Austin</td>\n",
       "      <td>Automotive</td>\n",
       "      <td>United States</td>\n",
       "      <td>True</td>\n",
       "      <td>M</td>\n",
       "      <td>Texas</td>\n",
       "      <td>South</td>\n",
       "      <td>117.24</td>\n",
       "      <td>7.5</td>\n",
       "      <td>2.142770e+13</td>\n",
       "      <td>88.2</td>\n",
       "      <td>101.8</td>\n",
       "      <td>78.5</td>\n",
       "      <td>36.6</td>\n",
       "      <td>328239523.0</td>\n",
       "      <td>37.090240</td>\n",
       "      <td>-95.712891</td>\n",
       "      <td>73</td>\n",
       "      <td>754.0</td>\n",
       "      <td>&gt;=50B</td>\n",
       "      <td>middle-aged</td>\n",
       "    </tr>\n",
       "    <tr>\n",
       "      <th>2</th>\n",
       "      <td>3</td>\n",
       "      <td>114000</td>\n",
       "      <td>Jeff Bezos</td>\n",
       "      <td>59.0</td>\n",
       "      <td>United States</td>\n",
       "      <td>Medina</td>\n",
       "      <td>Technology</td>\n",
       "      <td>United States</td>\n",
       "      <td>True</td>\n",
       "      <td>M</td>\n",
       "      <td>Washington</td>\n",
       "      <td>West</td>\n",
       "      <td>117.24</td>\n",
       "      <td>7.5</td>\n",
       "      <td>2.142770e+13</td>\n",
       "      <td>88.2</td>\n",
       "      <td>101.8</td>\n",
       "      <td>78.5</td>\n",
       "      <td>36.6</td>\n",
       "      <td>328239523.0</td>\n",
       "      <td>37.090240</td>\n",
       "      <td>-95.712891</td>\n",
       "      <td>314</td>\n",
       "      <td>754.0</td>\n",
       "      <td>&gt;=50B</td>\n",
       "      <td>middle-aged</td>\n",
       "    </tr>\n",
       "    <tr>\n",
       "      <th>3</th>\n",
       "      <td>4</td>\n",
       "      <td>107000</td>\n",
       "      <td>Larry Ellison</td>\n",
       "      <td>78.0</td>\n",
       "      <td>United States</td>\n",
       "      <td>Lanai</td>\n",
       "      <td>Technology</td>\n",
       "      <td>United States</td>\n",
       "      <td>True</td>\n",
       "      <td>M</td>\n",
       "      <td>Hawaii</td>\n",
       "      <td>West</td>\n",
       "      <td>117.24</td>\n",
       "      <td>7.5</td>\n",
       "      <td>2.142770e+13</td>\n",
       "      <td>88.2</td>\n",
       "      <td>101.8</td>\n",
       "      <td>78.5</td>\n",
       "      <td>36.6</td>\n",
       "      <td>328239523.0</td>\n",
       "      <td>37.090240</td>\n",
       "      <td>-95.712891</td>\n",
       "      <td>314</td>\n",
       "      <td>754.0</td>\n",
       "      <td>&gt;=50B</td>\n",
       "      <td>old</td>\n",
       "    </tr>\n",
       "    <tr>\n",
       "      <th>4</th>\n",
       "      <td>5</td>\n",
       "      <td>106000</td>\n",
       "      <td>Warren Buffett</td>\n",
       "      <td>92.0</td>\n",
       "      <td>United States</td>\n",
       "      <td>Omaha</td>\n",
       "      <td>Finance &amp; Investments</td>\n",
       "      <td>United States</td>\n",
       "      <td>True</td>\n",
       "      <td>M</td>\n",
       "      <td>Nebraska</td>\n",
       "      <td>Midwest</td>\n",
       "      <td>117.24</td>\n",
       "      <td>7.5</td>\n",
       "      <td>2.142770e+13</td>\n",
       "      <td>88.2</td>\n",
       "      <td>101.8</td>\n",
       "      <td>78.5</td>\n",
       "      <td>36.6</td>\n",
       "      <td>328239523.0</td>\n",
       "      <td>37.090240</td>\n",
       "      <td>-95.712891</td>\n",
       "      <td>372</td>\n",
       "      <td>754.0</td>\n",
       "      <td>&gt;=50B</td>\n",
       "      <td>very old</td>\n",
       "    </tr>\n",
       "  </tbody>\n",
       "</table>\n",
       "</div>"
      ],
      "text/plain": [
       "   rank  final_worth                      name   age        country    city  \\\n",
       "0     1       211000  Bernard Arnault & family  74.0         France   Paris   \n",
       "1     2       180000                 Elon Musk  51.0  United States  Austin   \n",
       "2     3       114000                Jeff Bezos  59.0  United States  Medina   \n",
       "3     4       107000             Larry Ellison  78.0  United States   Lanai   \n",
       "4     5       106000            Warren Buffett  92.0  United States   Omaha   \n",
       "\n",
       "              industries citizenship_country  self_made gender       state  \\\n",
       "0       Fashion & Retail              France      False      M         NaN   \n",
       "1             Automotive       United States       True      M       Texas   \n",
       "2             Technology       United States       True      M  Washington   \n",
       "3             Technology       United States       True      M      Hawaii   \n",
       "4  Finance & Investments       United States       True      M    Nebraska   \n",
       "\n",
       "  state_region  cpi_country  cpi_change_country   gdp_country  \\\n",
       "0          NaN       110.05                 1.1  2.715518e+12   \n",
       "1        South       117.24                 7.5  2.142770e+13   \n",
       "2         West       117.24                 7.5  2.142770e+13   \n",
       "3         West       117.24                 7.5  2.142770e+13   \n",
       "4      Midwest       117.24                 7.5  2.142770e+13   \n",
       "\n",
       "   tertiary_ed_enroll  primary_ed_enroll  life_expectancy_country  \\\n",
       "0                65.6              102.5                     82.5   \n",
       "1                88.2              101.8                     78.5   \n",
       "2                88.2              101.8                     78.5   \n",
       "3                88.2              101.8                     78.5   \n",
       "4                88.2              101.8                     78.5   \n",
       "\n",
       "   total_tax_rate_country  population_country  latitude_country  \\\n",
       "0                    60.7          67059887.0         46.227638   \n",
       "1                    36.6         328239523.0         37.090240   \n",
       "2                    36.6         328239523.0         37.090240   \n",
       "3                    36.6         328239523.0         37.090240   \n",
       "4                    36.6         328239523.0         37.090240   \n",
       "\n",
       "   longitude_country  industries_total  country_total wealth_category  \\\n",
       "0           2.213749               266           35.0           >=50B   \n",
       "1         -95.712891                73          754.0           >=50B   \n",
       "2         -95.712891               314          754.0           >=50B   \n",
       "3         -95.712891               314          754.0           >=50B   \n",
       "4         -95.712891               372          754.0           >=50B   \n",
       "\n",
       "  age_category  \n",
       "0          old  \n",
       "1  middle-aged  \n",
       "2  middle-aged  \n",
       "3          old  \n",
       "4     very old  "
      ]
     },
     "execution_count": 9,
     "metadata": {},
     "output_type": "execute_result"
    }
   ],
   "source": [
    "df.head()"
   ]
  },
  {
   "cell_type": "code",
   "execution_count": 10,
   "id": "2b9a202f",
   "metadata": {},
   "outputs": [
    {
     "data": {
      "text/plain": [
       "(2640, 26)"
      ]
     },
     "execution_count": 10,
     "metadata": {},
     "output_type": "execute_result"
    }
   ],
   "source": [
    "df.shape"
   ]
  },
  {
   "cell_type": "code",
   "execution_count": 11,
   "id": "4dd7c0d7",
   "metadata": {},
   "outputs": [],
   "source": [
    "# Exclude categorical fields\n",
    "# Specify the columns to keep\n",
    "columns_to_keep = ['final_worth', 'age', 'cpi_country', 'cpi_change_country', 'gdp_country', 'tertiary_ed_enroll', 'primary_ed_enroll',\n",
    "                  'life_expectancy_country', 'total_tax_rate_country', 'population_country', 'industries_total',\n",
    "                  'country_total']\n",
    "\n",
    "# Subset the DataFrame to include only the specified columns\n",
    "df2 = df[columns_to_keep]"
   ]
  },
  {
   "cell_type": "code",
   "execution_count": 12,
   "id": "d0f5fa1a",
   "metadata": {},
   "outputs": [
    {
     "name": "stdout",
     "output_type": "stream",
     "text": [
      "<class 'pandas.core.frame.DataFrame'>\n"
     ]
    }
   ],
   "source": [
    "print(type(df2))"
   ]
  },
  {
   "cell_type": "code",
   "execution_count": 13,
   "id": "b2f9439c",
   "metadata": {},
   "outputs": [
    {
     "data": {
      "text/html": [
       "<div>\n",
       "<style scoped>\n",
       "    .dataframe tbody tr th:only-of-type {\n",
       "        vertical-align: middle;\n",
       "    }\n",
       "\n",
       "    .dataframe tbody tr th {\n",
       "        vertical-align: top;\n",
       "    }\n",
       "\n",
       "    .dataframe thead th {\n",
       "        text-align: right;\n",
       "    }\n",
       "</style>\n",
       "<table border=\"1\" class=\"dataframe\">\n",
       "  <thead>\n",
       "    <tr style=\"text-align: right;\">\n",
       "      <th></th>\n",
       "      <th>final_worth</th>\n",
       "      <th>age</th>\n",
       "      <th>cpi_country</th>\n",
       "      <th>cpi_change_country</th>\n",
       "      <th>gdp_country</th>\n",
       "      <th>tertiary_ed_enroll</th>\n",
       "      <th>primary_ed_enroll</th>\n",
       "      <th>life_expectancy_country</th>\n",
       "      <th>total_tax_rate_country</th>\n",
       "      <th>population_country</th>\n",
       "      <th>industries_total</th>\n",
       "      <th>country_total</th>\n",
       "    </tr>\n",
       "  </thead>\n",
       "  <tbody>\n",
       "    <tr>\n",
       "      <th>0</th>\n",
       "      <td>211000</td>\n",
       "      <td>74.0</td>\n",
       "      <td>110.05</td>\n",
       "      <td>1.1</td>\n",
       "      <td>2.715518e+12</td>\n",
       "      <td>65.6</td>\n",
       "      <td>102.5</td>\n",
       "      <td>82.5</td>\n",
       "      <td>60.7</td>\n",
       "      <td>67059887.0</td>\n",
       "      <td>266</td>\n",
       "      <td>35.0</td>\n",
       "    </tr>\n",
       "    <tr>\n",
       "      <th>1</th>\n",
       "      <td>180000</td>\n",
       "      <td>51.0</td>\n",
       "      <td>117.24</td>\n",
       "      <td>7.5</td>\n",
       "      <td>2.142770e+13</td>\n",
       "      <td>88.2</td>\n",
       "      <td>101.8</td>\n",
       "      <td>78.5</td>\n",
       "      <td>36.6</td>\n",
       "      <td>328239523.0</td>\n",
       "      <td>73</td>\n",
       "      <td>754.0</td>\n",
       "    </tr>\n",
       "    <tr>\n",
       "      <th>2</th>\n",
       "      <td>114000</td>\n",
       "      <td>59.0</td>\n",
       "      <td>117.24</td>\n",
       "      <td>7.5</td>\n",
       "      <td>2.142770e+13</td>\n",
       "      <td>88.2</td>\n",
       "      <td>101.8</td>\n",
       "      <td>78.5</td>\n",
       "      <td>36.6</td>\n",
       "      <td>328239523.0</td>\n",
       "      <td>314</td>\n",
       "      <td>754.0</td>\n",
       "    </tr>\n",
       "    <tr>\n",
       "      <th>3</th>\n",
       "      <td>107000</td>\n",
       "      <td>78.0</td>\n",
       "      <td>117.24</td>\n",
       "      <td>7.5</td>\n",
       "      <td>2.142770e+13</td>\n",
       "      <td>88.2</td>\n",
       "      <td>101.8</td>\n",
       "      <td>78.5</td>\n",
       "      <td>36.6</td>\n",
       "      <td>328239523.0</td>\n",
       "      <td>314</td>\n",
       "      <td>754.0</td>\n",
       "    </tr>\n",
       "    <tr>\n",
       "      <th>4</th>\n",
       "      <td>106000</td>\n",
       "      <td>92.0</td>\n",
       "      <td>117.24</td>\n",
       "      <td>7.5</td>\n",
       "      <td>2.142770e+13</td>\n",
       "      <td>88.2</td>\n",
       "      <td>101.8</td>\n",
       "      <td>78.5</td>\n",
       "      <td>36.6</td>\n",
       "      <td>328239523.0</td>\n",
       "      <td>372</td>\n",
       "      <td>754.0</td>\n",
       "    </tr>\n",
       "  </tbody>\n",
       "</table>\n",
       "</div>"
      ],
      "text/plain": [
       "   final_worth   age  cpi_country  cpi_change_country   gdp_country  \\\n",
       "0       211000  74.0       110.05                 1.1  2.715518e+12   \n",
       "1       180000  51.0       117.24                 7.5  2.142770e+13   \n",
       "2       114000  59.0       117.24                 7.5  2.142770e+13   \n",
       "3       107000  78.0       117.24                 7.5  2.142770e+13   \n",
       "4       106000  92.0       117.24                 7.5  2.142770e+13   \n",
       "\n",
       "   tertiary_ed_enroll  primary_ed_enroll  life_expectancy_country  \\\n",
       "0                65.6              102.5                     82.5   \n",
       "1                88.2              101.8                     78.5   \n",
       "2                88.2              101.8                     78.5   \n",
       "3                88.2              101.8                     78.5   \n",
       "4                88.2              101.8                     78.5   \n",
       "\n",
       "   total_tax_rate_country  population_country  industries_total  country_total  \n",
       "0                    60.7          67059887.0               266           35.0  \n",
       "1                    36.6         328239523.0                73          754.0  \n",
       "2                    36.6         328239523.0               314          754.0  \n",
       "3                    36.6         328239523.0               314          754.0  \n",
       "4                    36.6         328239523.0               372          754.0  "
      ]
     },
     "execution_count": 13,
     "metadata": {},
     "output_type": "execute_result"
    }
   ],
   "source": [
    "df2.head()"
   ]
  },
  {
   "cell_type": "code",
   "execution_count": 14,
   "id": "7062b040",
   "metadata": {},
   "outputs": [
    {
     "data": {
      "text/plain": [
       "(2640, 12)"
      ]
     },
     "execution_count": 14,
     "metadata": {},
     "output_type": "execute_result"
    }
   ],
   "source": [
    "df2.shape"
   ]
  },
  {
   "cell_type": "markdown",
   "id": "5182acf2",
   "metadata": {},
   "source": [
    "### 2. Standardizing the data"
   ]
  },
  {
   "cell_type": "markdown",
   "id": "28fa6462",
   "metadata": {},
   "source": [
    "#### I tried using Using sci-kit learn Standard scaler, which eventually worked, but it put the data into an array and I couldn't figure out how to get it back into a data frame format. Then I tried Using scipy.stats() and it also seemed to work, but on most of the columns it returned a NaN value. So, now I'm going to try to find z-scores using Pandas."
   ]
  },
  {
   "cell_type": "code",
   "execution_count": 15,
   "id": "a1cb2e27",
   "metadata": {},
   "outputs": [],
   "source": [
    "# Finding z-scores to standardize the data\n",
    "\n",
    "df2.loc[:, 'final_worth'] =( df2['final_worth'] - df2['final_worth'].mean() ) / df2['final_worth'].std()"
   ]
  },
  {
   "cell_type": "code",
   "execution_count": 16,
   "id": "84cd076a",
   "metadata": {},
   "outputs": [
    {
     "data": {
      "text/html": [
       "<div>\n",
       "<style scoped>\n",
       "    .dataframe tbody tr th:only-of-type {\n",
       "        vertical-align: middle;\n",
       "    }\n",
       "\n",
       "    .dataframe tbody tr th {\n",
       "        vertical-align: top;\n",
       "    }\n",
       "\n",
       "    .dataframe thead th {\n",
       "        text-align: right;\n",
       "    }\n",
       "</style>\n",
       "<table border=\"1\" class=\"dataframe\">\n",
       "  <thead>\n",
       "    <tr style=\"text-align: right;\">\n",
       "      <th></th>\n",
       "      <th>final_worth</th>\n",
       "      <th>age</th>\n",
       "      <th>cpi_country</th>\n",
       "      <th>cpi_change_country</th>\n",
       "      <th>gdp_country</th>\n",
       "      <th>tertiary_ed_enroll</th>\n",
       "      <th>primary_ed_enroll</th>\n",
       "      <th>life_expectancy_country</th>\n",
       "      <th>total_tax_rate_country</th>\n",
       "      <th>population_country</th>\n",
       "      <th>industries_total</th>\n",
       "      <th>country_total</th>\n",
       "    </tr>\n",
       "  </thead>\n",
       "  <tbody>\n",
       "    <tr>\n",
       "      <th>0</th>\n",
       "      <td>20.985474</td>\n",
       "      <td>74.0</td>\n",
       "      <td>110.05</td>\n",
       "      <td>1.1</td>\n",
       "      <td>2.715518e+12</td>\n",
       "      <td>65.6</td>\n",
       "      <td>102.5</td>\n",
       "      <td>82.5</td>\n",
       "      <td>60.7</td>\n",
       "      <td>67059887.0</td>\n",
       "      <td>266</td>\n",
       "      <td>35.0</td>\n",
       "    </tr>\n",
       "    <tr>\n",
       "      <th>1</th>\n",
       "      <td>17.833223</td>\n",
       "      <td>51.0</td>\n",
       "      <td>117.24</td>\n",
       "      <td>7.5</td>\n",
       "      <td>2.142770e+13</td>\n",
       "      <td>88.2</td>\n",
       "      <td>101.8</td>\n",
       "      <td>78.5</td>\n",
       "      <td>36.6</td>\n",
       "      <td>328239523.0</td>\n",
       "      <td>73</td>\n",
       "      <td>754.0</td>\n",
       "    </tr>\n",
       "    <tr>\n",
       "      <th>2</th>\n",
       "      <td>11.121978</td>\n",
       "      <td>59.0</td>\n",
       "      <td>117.24</td>\n",
       "      <td>7.5</td>\n",
       "      <td>2.142770e+13</td>\n",
       "      <td>88.2</td>\n",
       "      <td>101.8</td>\n",
       "      <td>78.5</td>\n",
       "      <td>36.6</td>\n",
       "      <td>328239523.0</td>\n",
       "      <td>314</td>\n",
       "      <td>754.0</td>\n",
       "    </tr>\n",
       "    <tr>\n",
       "      <th>3</th>\n",
       "      <td>10.410179</td>\n",
       "      <td>78.0</td>\n",
       "      <td>117.24</td>\n",
       "      <td>7.5</td>\n",
       "      <td>2.142770e+13</td>\n",
       "      <td>88.2</td>\n",
       "      <td>101.8</td>\n",
       "      <td>78.5</td>\n",
       "      <td>36.6</td>\n",
       "      <td>328239523.0</td>\n",
       "      <td>314</td>\n",
       "      <td>754.0</td>\n",
       "    </tr>\n",
       "    <tr>\n",
       "      <th>4</th>\n",
       "      <td>10.308494</td>\n",
       "      <td>92.0</td>\n",
       "      <td>117.24</td>\n",
       "      <td>7.5</td>\n",
       "      <td>2.142770e+13</td>\n",
       "      <td>88.2</td>\n",
       "      <td>101.8</td>\n",
       "      <td>78.5</td>\n",
       "      <td>36.6</td>\n",
       "      <td>328239523.0</td>\n",
       "      <td>372</td>\n",
       "      <td>754.0</td>\n",
       "    </tr>\n",
       "  </tbody>\n",
       "</table>\n",
       "</div>"
      ],
      "text/plain": [
       "   final_worth   age  cpi_country  cpi_change_country   gdp_country  \\\n",
       "0    20.985474  74.0       110.05                 1.1  2.715518e+12   \n",
       "1    17.833223  51.0       117.24                 7.5  2.142770e+13   \n",
       "2    11.121978  59.0       117.24                 7.5  2.142770e+13   \n",
       "3    10.410179  78.0       117.24                 7.5  2.142770e+13   \n",
       "4    10.308494  92.0       117.24                 7.5  2.142770e+13   \n",
       "\n",
       "   tertiary_ed_enroll  primary_ed_enroll  life_expectancy_country  \\\n",
       "0                65.6              102.5                     82.5   \n",
       "1                88.2              101.8                     78.5   \n",
       "2                88.2              101.8                     78.5   \n",
       "3                88.2              101.8                     78.5   \n",
       "4                88.2              101.8                     78.5   \n",
       "\n",
       "   total_tax_rate_country  population_country  industries_total  country_total  \n",
       "0                    60.7          67059887.0               266           35.0  \n",
       "1                    36.6         328239523.0                73          754.0  \n",
       "2                    36.6         328239523.0               314          754.0  \n",
       "3                    36.6         328239523.0               314          754.0  \n",
       "4                    36.6         328239523.0               372          754.0  "
      ]
     },
     "execution_count": 16,
     "metadata": {},
     "output_type": "execute_result"
    }
   ],
   "source": [
    "df2.head()"
   ]
  },
  {
   "cell_type": "code",
   "execution_count": 17,
   "id": "68494baf",
   "metadata": {},
   "outputs": [],
   "source": [
    "# Using the same method for the age column and checking the result\n",
    "\n",
    "df2.loc[:, 'age'] =( df2['age'] - df2['age'].mean() ) / df2['age'].std()"
   ]
  },
  {
   "cell_type": "code",
   "execution_count": 18,
   "id": "53f4ade8",
   "metadata": {},
   "outputs": [
    {
     "data": {
      "text/html": [
       "<div>\n",
       "<style scoped>\n",
       "    .dataframe tbody tr th:only-of-type {\n",
       "        vertical-align: middle;\n",
       "    }\n",
       "\n",
       "    .dataframe tbody tr th {\n",
       "        vertical-align: top;\n",
       "    }\n",
       "\n",
       "    .dataframe thead th {\n",
       "        text-align: right;\n",
       "    }\n",
       "</style>\n",
       "<table border=\"1\" class=\"dataframe\">\n",
       "  <thead>\n",
       "    <tr style=\"text-align: right;\">\n",
       "      <th></th>\n",
       "      <th>final_worth</th>\n",
       "      <th>age</th>\n",
       "      <th>cpi_country</th>\n",
       "      <th>cpi_change_country</th>\n",
       "      <th>gdp_country</th>\n",
       "      <th>tertiary_ed_enroll</th>\n",
       "      <th>primary_ed_enroll</th>\n",
       "      <th>life_expectancy_country</th>\n",
       "      <th>total_tax_rate_country</th>\n",
       "      <th>population_country</th>\n",
       "      <th>industries_total</th>\n",
       "      <th>country_total</th>\n",
       "    </tr>\n",
       "  </thead>\n",
       "  <tbody>\n",
       "    <tr>\n",
       "      <th>0</th>\n",
       "      <td>20.985474</td>\n",
       "      <td>0.668256</td>\n",
       "      <td>110.05</td>\n",
       "      <td>1.1</td>\n",
       "      <td>2.715518e+12</td>\n",
       "      <td>65.6</td>\n",
       "      <td>102.5</td>\n",
       "      <td>82.5</td>\n",
       "      <td>60.7</td>\n",
       "      <td>67059887.0</td>\n",
       "      <td>266</td>\n",
       "      <td>35.0</td>\n",
       "    </tr>\n",
       "    <tr>\n",
       "      <th>1</th>\n",
       "      <td>17.833223</td>\n",
       "      <td>-1.066533</td>\n",
       "      <td>117.24</td>\n",
       "      <td>7.5</td>\n",
       "      <td>2.142770e+13</td>\n",
       "      <td>88.2</td>\n",
       "      <td>101.8</td>\n",
       "      <td>78.5</td>\n",
       "      <td>36.6</td>\n",
       "      <td>328239523.0</td>\n",
       "      <td>73</td>\n",
       "      <td>754.0</td>\n",
       "    </tr>\n",
       "    <tr>\n",
       "      <th>2</th>\n",
       "      <td>11.121978</td>\n",
       "      <td>-0.463128</td>\n",
       "      <td>117.24</td>\n",
       "      <td>7.5</td>\n",
       "      <td>2.142770e+13</td>\n",
       "      <td>88.2</td>\n",
       "      <td>101.8</td>\n",
       "      <td>78.5</td>\n",
       "      <td>36.6</td>\n",
       "      <td>328239523.0</td>\n",
       "      <td>314</td>\n",
       "      <td>754.0</td>\n",
       "    </tr>\n",
       "    <tr>\n",
       "      <th>3</th>\n",
       "      <td>10.410179</td>\n",
       "      <td>0.969959</td>\n",
       "      <td>117.24</td>\n",
       "      <td>7.5</td>\n",
       "      <td>2.142770e+13</td>\n",
       "      <td>88.2</td>\n",
       "      <td>101.8</td>\n",
       "      <td>78.5</td>\n",
       "      <td>36.6</td>\n",
       "      <td>328239523.0</td>\n",
       "      <td>314</td>\n",
       "      <td>754.0</td>\n",
       "    </tr>\n",
       "    <tr>\n",
       "      <th>4</th>\n",
       "      <td>10.308494</td>\n",
       "      <td>2.025917</td>\n",
       "      <td>117.24</td>\n",
       "      <td>7.5</td>\n",
       "      <td>2.142770e+13</td>\n",
       "      <td>88.2</td>\n",
       "      <td>101.8</td>\n",
       "      <td>78.5</td>\n",
       "      <td>36.6</td>\n",
       "      <td>328239523.0</td>\n",
       "      <td>372</td>\n",
       "      <td>754.0</td>\n",
       "    </tr>\n",
       "  </tbody>\n",
       "</table>\n",
       "</div>"
      ],
      "text/plain": [
       "   final_worth       age  cpi_country  cpi_change_country   gdp_country  \\\n",
       "0    20.985474  0.668256       110.05                 1.1  2.715518e+12   \n",
       "1    17.833223 -1.066533       117.24                 7.5  2.142770e+13   \n",
       "2    11.121978 -0.463128       117.24                 7.5  2.142770e+13   \n",
       "3    10.410179  0.969959       117.24                 7.5  2.142770e+13   \n",
       "4    10.308494  2.025917       117.24                 7.5  2.142770e+13   \n",
       "\n",
       "   tertiary_ed_enroll  primary_ed_enroll  life_expectancy_country  \\\n",
       "0                65.6              102.5                     82.5   \n",
       "1                88.2              101.8                     78.5   \n",
       "2                88.2              101.8                     78.5   \n",
       "3                88.2              101.8                     78.5   \n",
       "4                88.2              101.8                     78.5   \n",
       "\n",
       "   total_tax_rate_country  population_country  industries_total  country_total  \n",
       "0                    60.7          67059887.0               266           35.0  \n",
       "1                    36.6         328239523.0                73          754.0  \n",
       "2                    36.6         328239523.0               314          754.0  \n",
       "3                    36.6         328239523.0               314          754.0  \n",
       "4                    36.6         328239523.0               372          754.0  "
      ]
     },
     "execution_count": 18,
     "metadata": {},
     "output_type": "execute_result"
    }
   ],
   "source": [
    "df2.head()"
   ]
  },
  {
   "cell_type": "code",
   "execution_count": 19,
   "id": "03ed96ad",
   "metadata": {},
   "outputs": [],
   "source": [
    "# This method seems to be working, so I'll use it on the remaining columns.\n",
    "\n",
    "df2.loc[:, 'cpi_country'] =( df2['cpi_country'] - df2['cpi_country'].mean() ) / df2['cpi_country'].std()\n",
    "df2.loc[:, 'cpi_change_country'] =( df2['cpi_change_country'] - df2['cpi_change_country'].mean() ) / df2['cpi_change_country'].std()\n",
    "df2.loc[:, 'gdp_country'] =( df2['gdp_country'] - df2['gdp_country'].mean() ) / df2['gdp_country'].std()\n",
    "df2.loc[:, 'tertiary_ed_enroll'] =( df2['tertiary_ed_enroll'] - df2['tertiary_ed_enroll'].mean() ) / df2['tertiary_ed_enroll'].std()\n",
    "df2.loc[:, 'primary_ed_enroll'] =( df2['primary_ed_enroll'] - df2['primary_ed_enroll'].mean() ) / df2['primary_ed_enroll'].std()\n",
    "df2.loc[:, 'life_expectancy_country'] =( df2['life_expectancy_country'] - df2['life_expectancy_country'].mean() ) / df2['life_expectancy_country'].std()\n",
    "df2.loc[:, 'total_tax_rate_country'] =( df2['total_tax_rate_country'] - df2['total_tax_rate_country'].mean() ) / df2['total_tax_rate_country'].std()\n",
    "df2.loc[:, 'population_country'] =( df2['population_country'] - df2['population_country'].mean() ) / df2['population_country'].std()\n",
    "df2.loc[:, 'industries_total'] =( df2['industries_total'] - df2['industries_total'].mean() ) / df2['industries_total'].std()\n",
    "df2.loc[:, 'country_total'] =( df2['country_total'] - df2['country_total'].mean() ) / df2['country_total'].std()"
   ]
  },
  {
   "cell_type": "code",
   "execution_count": 20,
   "id": "6715e971",
   "metadata": {},
   "outputs": [
    {
     "data": {
      "text/html": [
       "<div>\n",
       "<style scoped>\n",
       "    .dataframe tbody tr th:only-of-type {\n",
       "        vertical-align: middle;\n",
       "    }\n",
       "\n",
       "    .dataframe tbody tr th {\n",
       "        vertical-align: top;\n",
       "    }\n",
       "\n",
       "    .dataframe thead th {\n",
       "        text-align: right;\n",
       "    }\n",
       "</style>\n",
       "<table border=\"1\" class=\"dataframe\">\n",
       "  <thead>\n",
       "    <tr style=\"text-align: right;\">\n",
       "      <th></th>\n",
       "      <th>final_worth</th>\n",
       "      <th>age</th>\n",
       "      <th>cpi_country</th>\n",
       "      <th>cpi_change_country</th>\n",
       "      <th>gdp_country</th>\n",
       "      <th>tertiary_ed_enroll</th>\n",
       "      <th>primary_ed_enroll</th>\n",
       "      <th>life_expectancy_country</th>\n",
       "      <th>total_tax_rate_country</th>\n",
       "      <th>population_country</th>\n",
       "      <th>industries_total</th>\n",
       "      <th>country_total</th>\n",
       "    </tr>\n",
       "  </thead>\n",
       "  <tbody>\n",
       "    <tr>\n",
       "      <th>0</th>\n",
       "      <td>20.985474</td>\n",
       "      <td>0.668256</td>\n",
       "      <td>-0.669309</td>\n",
       "      <td>-0.900768</td>\n",
       "      <td>-0.926038</td>\n",
       "      <td>-0.076167</td>\n",
       "      <td>-0.076103</td>\n",
       "      <td>1.173475</td>\n",
       "      <td>1.378036</td>\n",
       "      <td>-0.799548</td>\n",
       "      <td>0.336314</td>\n",
       "      <td>-1.026671</td>\n",
       "    </tr>\n",
       "    <tr>\n",
       "      <th>1</th>\n",
       "      <td>17.833223</td>\n",
       "      <td>-1.066533</td>\n",
       "      <td>-0.397506</td>\n",
       "      <td>0.865352</td>\n",
       "      <td>1.028117</td>\n",
       "      <td>0.982707</td>\n",
       "      <td>-0.224692</td>\n",
       "      <td>0.101117</td>\n",
       "      <td>-0.606271</td>\n",
       "      <td>-0.328313</td>\n",
       "      <td>-1.499579</td>\n",
       "      <td>1.282848</td>\n",
       "    </tr>\n",
       "    <tr>\n",
       "      <th>2</th>\n",
       "      <td>11.121978</td>\n",
       "      <td>-0.463128</td>\n",
       "      <td>-0.397506</td>\n",
       "      <td>0.865352</td>\n",
       "      <td>1.028117</td>\n",
       "      <td>0.982707</td>\n",
       "      <td>-0.224692</td>\n",
       "      <td>0.101117</td>\n",
       "      <td>-0.606271</td>\n",
       "      <td>-0.328313</td>\n",
       "      <td>0.792909</td>\n",
       "      <td>1.282848</td>\n",
       "    </tr>\n",
       "    <tr>\n",
       "      <th>3</th>\n",
       "      <td>10.410179</td>\n",
       "      <td>0.969959</td>\n",
       "      <td>-0.397506</td>\n",
       "      <td>0.865352</td>\n",
       "      <td>1.028117</td>\n",
       "      <td>0.982707</td>\n",
       "      <td>-0.224692</td>\n",
       "      <td>0.101117</td>\n",
       "      <td>-0.606271</td>\n",
       "      <td>-0.328313</td>\n",
       "      <td>0.792909</td>\n",
       "      <td>1.282848</td>\n",
       "    </tr>\n",
       "    <tr>\n",
       "      <th>4</th>\n",
       "      <td>10.308494</td>\n",
       "      <td>2.025917</td>\n",
       "      <td>-0.397506</td>\n",
       "      <td>0.865352</td>\n",
       "      <td>1.028117</td>\n",
       "      <td>0.982707</td>\n",
       "      <td>-0.224692</td>\n",
       "      <td>0.101117</td>\n",
       "      <td>-0.606271</td>\n",
       "      <td>-0.328313</td>\n",
       "      <td>1.344628</td>\n",
       "      <td>1.282848</td>\n",
       "    </tr>\n",
       "  </tbody>\n",
       "</table>\n",
       "</div>"
      ],
      "text/plain": [
       "   final_worth       age  cpi_country  cpi_change_country  gdp_country  \\\n",
       "0    20.985474  0.668256    -0.669309           -0.900768    -0.926038   \n",
       "1    17.833223 -1.066533    -0.397506            0.865352     1.028117   \n",
       "2    11.121978 -0.463128    -0.397506            0.865352     1.028117   \n",
       "3    10.410179  0.969959    -0.397506            0.865352     1.028117   \n",
       "4    10.308494  2.025917    -0.397506            0.865352     1.028117   \n",
       "\n",
       "   tertiary_ed_enroll  primary_ed_enroll  life_expectancy_country  \\\n",
       "0           -0.076167          -0.076103                 1.173475   \n",
       "1            0.982707          -0.224692                 0.101117   \n",
       "2            0.982707          -0.224692                 0.101117   \n",
       "3            0.982707          -0.224692                 0.101117   \n",
       "4            0.982707          -0.224692                 0.101117   \n",
       "\n",
       "   total_tax_rate_country  population_country  industries_total  country_total  \n",
       "0                1.378036           -0.799548          0.336314      -1.026671  \n",
       "1               -0.606271           -0.328313         -1.499579       1.282848  \n",
       "2               -0.606271           -0.328313          0.792909       1.282848  \n",
       "3               -0.606271           -0.328313          0.792909       1.282848  \n",
       "4               -0.606271           -0.328313          1.344628       1.282848  "
      ]
     },
     "execution_count": 20,
     "metadata": {},
     "output_type": "execute_result"
    }
   ],
   "source": [
    "df2.head()"
   ]
  },
  {
   "cell_type": "code",
   "execution_count": 21,
   "id": "2332020a",
   "metadata": {},
   "outputs": [
    {
     "name": "stdout",
     "output_type": "stream",
     "text": [
      "<class 'pandas.core.frame.DataFrame'>\n"
     ]
    }
   ],
   "source": [
    "print(type(df2))\n"
   ]
  },
  {
   "cell_type": "markdown",
   "id": "1f1b1ce8",
   "metadata": {},
   "source": [
    "#### This seems to have worked for standardizing the data frame. Now I will remove the NaN values because having those in there created problems moving forward with the elbow technique in the past."
   ]
  },
  {
   "cell_type": "code",
   "execution_count": 22,
   "id": "5e9120d2",
   "metadata": {},
   "outputs": [],
   "source": [
    "# dropping NaN values from df2\n",
    "\n",
    "df2 = df2.dropna()"
   ]
  },
  {
   "cell_type": "code",
   "execution_count": 23,
   "id": "13bb6e77",
   "metadata": {},
   "outputs": [
    {
     "data": {
      "text/plain": [
       "(2407, 12)"
      ]
     },
     "execution_count": 23,
     "metadata": {},
     "output_type": "execute_result"
    }
   ],
   "source": [
    "df2.shape"
   ]
  },
  {
   "cell_type": "markdown",
   "id": "897bdb6e",
   "metadata": {},
   "source": [
    "#### 233 records were dropped to remove NaN values so that I can continue with k-means. This is 8.8% of the total data set. Hopefully, since this is less than 10%, it will not skew the results too much."
   ]
  },
  {
   "cell_type": "markdown",
   "id": "aca610b6",
   "metadata": {},
   "source": [
    "## 3. The elbow technique"
   ]
  },
  {
   "cell_type": "code",
   "execution_count": 26,
   "id": "90bf762a",
   "metadata": {},
   "outputs": [],
   "source": [
    "# With the help of chatGPT, I altered the code below to include 'n_init=10' to avoide getting a 'FutureWarning'.\n",
    "\n",
    "num_cl = range(1, 10) # Defines the range of potential clusters in the data.\n",
    "kmeans = [KMeans(n_clusters=i, n_init=10) for i in num_cl] # Defines k-means clusters in the range assigned above."
   ]
  },
  {
   "cell_type": "code",
   "execution_count": 27,
   "id": "51b19035",
   "metadata": {},
   "outputs": [
    {
     "data": {
      "text/plain": [
       "[-28899.427447303828,\n",
       " -22574.863153607275,\n",
       " -17224.523008629345,\n",
       " -13195.056818797213,\n",
       " -11661.615239702836,\n",
       " -10913.940360263497,\n",
       " -9940.230435712441,\n",
       " -9066.865135047212,\n",
       " -8262.811322216956]"
      ]
     },
     "execution_count": 27,
     "metadata": {},
     "output_type": "execute_result"
    }
   ],
   "source": [
    "score = [kmeans[i].fit(df2).score(df2) for i in range(len(kmeans))] # Creates a score that represents \n",
    "# a rate of variation for the given cluster option.\n",
    "\n",
    "score"
   ]
  },
  {
   "cell_type": "code",
   "execution_count": 28,
   "id": "5c9cf448",
   "metadata": {},
   "outputs": [
    {
     "data": {
      "image/png": "[encoded data removed]",
      "text/plain": [
       "<Figure size 640x480 with 1 Axes>"
      ]
     },
     "metadata": {},
     "output_type": "display_data"
    }
   ],
   "source": [
    "# Plot the elbow curve using PyLab.\n",
    "\n",
    "pl.plot(num_cl,score)\n",
    "pl.xlabel('Number of Clusters')\n",
    "pl.ylabel('Score')\n",
    "pl.title('Elbow Curve')\n",
    "pl.show()"
   ]
  },
  {
   "cell_type": "markdown",
   "id": "4b46800b",
   "metadata": {},
   "source": [
    "#### The curve does not rise as dramatically after 4 clusters, so that will be the optimal number of clusters to use."
   ]
  },
  {
   "cell_type": "markdown",
   "id": "7c10c940",
   "metadata": {},
   "source": [
    "## 4. K-means clustering"
   ]
  },
  {
   "cell_type": "code",
   "execution_count": 31,
   "id": "aa9f4f0a",
   "metadata": {},
   "outputs": [],
   "source": [
    "# Create the k-means object.\n",
    "\n",
    "kmeans = KMeans(n_clusters = 4, n_init=10) "
   ]
  },
  {
   "cell_type": "code",
   "execution_count": 32,
   "id": "0b54d14d",
   "metadata": {},
   "outputs": [
    {
     "data": {
      "text/html": [
       "<style>#sk-container-id-2 {color: black;}#sk-container-id-2 pre{padding: 0;}#sk-container-id-2 div.sk-toggleable {background-color: white;}#sk-container-id-2 label.sk-toggleable__label {cursor: pointer;display: block;width: 100%;margin-bottom: 0;padding: 0.3em;box-sizing: border-box;text-align: center;}#sk-container-id-2 label.sk-toggleable__label-arrow:before {content: \"▸\";float: left;margin-right: 0.25em;color: #696969;}#sk-container-id-2 label.sk-toggleable__label-arrow:hover:before {color: black;}#sk-container-id-2 div.sk-estimator:hover label.sk-toggleable__label-arrow:before {color: black;}#sk-container-id-2 div.sk-toggleable__content {max-height: 0;max-width: 0;overflow: hidden;text-align: left;background-color: #f0f8ff;}#sk-container-id-2 div.sk-toggleable__content pre {margin: 0.2em;color: black;border-radius: 0.25em;background-color: #f0f8ff;}#sk-container-id-2 input.sk-toggleable__control:checked~div.sk-toggleable__content {max-height: 200px;max-width: 100%;overflow: auto;}#sk-container-id-2 input.sk-toggleable__control:checked~label.sk-toggleable__label-arrow:before {content: \"▾\";}#sk-container-id-2 div.sk-estimator input.sk-toggleable__control:checked~label.sk-toggleable__label {background-color: #d4ebff;}#sk-container-id-2 div.sk-label input.sk-toggleable__control:checked~label.sk-toggleable__label {background-color: #d4ebff;}#sk-container-id-2 input.sk-hidden--visually {border: 0;clip: rect(1px 1px 1px 1px);clip: rect(1px, 1px, 1px, 1px);height: 1px;margin: -1px;overflow: hidden;padding: 0;position: absolute;width: 1px;}#sk-container-id-2 div.sk-estimator {font-family: monospace;background-color: #f0f8ff;border: 1px dotted black;border-radius: 0.25em;box-sizing: border-box;margin-bottom: 0.5em;}#sk-container-id-2 div.sk-estimator:hover {background-color: #d4ebff;}#sk-container-id-2 div.sk-parallel-item::after {content: \"\";width: 100%;border-bottom: 1px solid gray;flex-grow: 1;}#sk-container-id-2 div.sk-label:hover label.sk-toggleable__label {background-color: #d4ebff;}#sk-container-id-2 div.sk-serial::before {content: \"\";position: absolute;border-left: 1px solid gray;box-sizing: border-box;top: 0;bottom: 0;left: 50%;z-index: 0;}#sk-container-id-2 div.sk-serial {display: flex;flex-direction: column;align-items: center;background-color: white;padding-right: 0.2em;padding-left: 0.2em;position: relative;}#sk-container-id-2 div.sk-item {position: relative;z-index: 1;}#sk-container-id-2 div.sk-parallel {display: flex;align-items: stretch;justify-content: center;background-color: white;position: relative;}#sk-container-id-2 div.sk-item::before, #sk-container-id-2 div.sk-parallel-item::before {content: \"\";position: absolute;border-left: 1px solid gray;box-sizing: border-box;top: 0;bottom: 0;left: 50%;z-index: -1;}#sk-container-id-2 div.sk-parallel-item {display: flex;flex-direction: column;z-index: 1;position: relative;background-color: white;}#sk-container-id-2 div.sk-parallel-item:first-child::after {align-self: flex-end;width: 50%;}#sk-container-id-2 div.sk-parallel-item:last-child::after {align-self: flex-start;width: 50%;}#sk-container-id-2 div.sk-parallel-item:only-child::after {width: 0;}#sk-container-id-2 div.sk-dashed-wrapped {border: 1px dashed gray;margin: 0 0.4em 0.5em 0.4em;box-sizing: border-box;padding-bottom: 0.4em;background-color: white;}#sk-container-id-2 div.sk-label label {font-family: monospace;font-weight: bold;display: inline-block;line-height: 1.2em;}#sk-container-id-2 div.sk-label-container {text-align: center;}#sk-container-id-2 div.sk-container {/* jupyter's `normalize.less` sets `[hidden] { display: none; }` but bootstrap.min.css set `[hidden] { display: none !important; }` so we also need the `!important` here to be able to override the default hidden behavior on the sphinx rendered scikit-learn.org. See: https://github.com/scikit-learn/scikit-learn/issues/21755 */display: inline-block !important;position: relative;}#sk-container-id-2 div.sk-text-repr-fallback {display: none;}</style><div id=\"sk-container-id-2\" class=\"sk-top-container\"><div class=\"sk-text-repr-fallback\"><pre>KMeans(n_clusters=4, n_init=10)</pre><b>In a Jupyter environment, please rerun this cell to show the HTML representation or trust the notebook. <br />On GitHub, the HTML representation is unable to render, please try loading this page with nbviewer.org.</b></div><div class=\"sk-container\" hidden><div class=\"sk-item\"><div class=\"sk-estimator sk-toggleable\"><input class=\"sk-toggleable__control sk-hidden--visually\" id=\"sk-estimator-id-2\" type=\"checkbox\" checked><label for=\"sk-estimator-id-2\" class=\"sk-toggleable__label sk-toggleable__label-arrow\">KMeans</label><div class=\"sk-toggleable__content\"><pre>KMeans(n_clusters=4, n_init=10)</pre></div></div></div></div></div>"
      ],
      "text/plain": [
       "KMeans(n_clusters=4, n_init=10)"
      ]
     },
     "execution_count": 32,
     "metadata": {},
     "output_type": "execute_result"
    }
   ],
   "source": [
    "# Fit the k-means object to the data.\n",
    "\n",
    "kmeans.fit(df2)"
   ]
  },
  {
   "cell_type": "markdown",
   "id": "3e94ee36",
   "metadata": {},
   "source": [
    "#### Now I will add a 'clusters' column to assign each record to a cluster"
   ]
  },
  {
   "cell_type": "code",
   "execution_count": 34,
   "id": "c496be5f",
   "metadata": {},
   "outputs": [],
   "source": [
    "df2['clusters'] = kmeans.fit_predict(df2)"
   ]
  },
  {
   "cell_type": "code",
   "execution_count": 35,
   "id": "f2ff030f",
   "metadata": {},
   "outputs": [
    {
     "data": {
      "text/html": [
       "<div>\n",
       "<style scoped>\n",
       "    .dataframe tbody tr th:only-of-type {\n",
       "        vertical-align: middle;\n",
       "    }\n",
       "\n",
       "    .dataframe tbody tr th {\n",
       "        vertical-align: top;\n",
       "    }\n",
       "\n",
       "    .dataframe thead th {\n",
       "        text-align: right;\n",
       "    }\n",
       "</style>\n",
       "<table border=\"1\" class=\"dataframe\">\n",
       "  <thead>\n",
       "    <tr style=\"text-align: right;\">\n",
       "      <th></th>\n",
       "      <th>final_worth</th>\n",
       "      <th>age</th>\n",
       "      <th>cpi_country</th>\n",
       "      <th>cpi_change_country</th>\n",
       "      <th>gdp_country</th>\n",
       "      <th>tertiary_ed_enroll</th>\n",
       "      <th>primary_ed_enroll</th>\n",
       "      <th>life_expectancy_country</th>\n",
       "      <th>total_tax_rate_country</th>\n",
       "      <th>population_country</th>\n",
       "      <th>industries_total</th>\n",
       "      <th>country_total</th>\n",
       "      <th>clusters</th>\n",
       "    </tr>\n",
       "  </thead>\n",
       "  <tbody>\n",
       "    <tr>\n",
       "      <th>0</th>\n",
       "      <td>20.985474</td>\n",
       "      <td>0.668256</td>\n",
       "      <td>-0.669309</td>\n",
       "      <td>-0.900768</td>\n",
       "      <td>-0.926038</td>\n",
       "      <td>-0.076167</td>\n",
       "      <td>-0.076103</td>\n",
       "      <td>1.173475</td>\n",
       "      <td>1.378036</td>\n",
       "      <td>-0.799548</td>\n",
       "      <td>0.336314</td>\n",
       "      <td>-1.026671</td>\n",
       "      <td>1</td>\n",
       "    </tr>\n",
       "    <tr>\n",
       "      <th>1</th>\n",
       "      <td>17.833223</td>\n",
       "      <td>-1.066533</td>\n",
       "      <td>-0.397506</td>\n",
       "      <td>0.865352</td>\n",
       "      <td>1.028117</td>\n",
       "      <td>0.982707</td>\n",
       "      <td>-0.224692</td>\n",
       "      <td>0.101117</td>\n",
       "      <td>-0.606271</td>\n",
       "      <td>-0.328313</td>\n",
       "      <td>-1.499579</td>\n",
       "      <td>1.282848</td>\n",
       "      <td>2</td>\n",
       "    </tr>\n",
       "    <tr>\n",
       "      <th>2</th>\n",
       "      <td>11.121978</td>\n",
       "      <td>-0.463128</td>\n",
       "      <td>-0.397506</td>\n",
       "      <td>0.865352</td>\n",
       "      <td>1.028117</td>\n",
       "      <td>0.982707</td>\n",
       "      <td>-0.224692</td>\n",
       "      <td>0.101117</td>\n",
       "      <td>-0.606271</td>\n",
       "      <td>-0.328313</td>\n",
       "      <td>0.792909</td>\n",
       "      <td>1.282848</td>\n",
       "      <td>2</td>\n",
       "    </tr>\n",
       "    <tr>\n",
       "      <th>3</th>\n",
       "      <td>10.410179</td>\n",
       "      <td>0.969959</td>\n",
       "      <td>-0.397506</td>\n",
       "      <td>0.865352</td>\n",
       "      <td>1.028117</td>\n",
       "      <td>0.982707</td>\n",
       "      <td>-0.224692</td>\n",
       "      <td>0.101117</td>\n",
       "      <td>-0.606271</td>\n",
       "      <td>-0.328313</td>\n",
       "      <td>0.792909</td>\n",
       "      <td>1.282848</td>\n",
       "      <td>2</td>\n",
       "    </tr>\n",
       "    <tr>\n",
       "      <th>4</th>\n",
       "      <td>10.308494</td>\n",
       "      <td>2.025917</td>\n",
       "      <td>-0.397506</td>\n",
       "      <td>0.865352</td>\n",
       "      <td>1.028117</td>\n",
       "      <td>0.982707</td>\n",
       "      <td>-0.224692</td>\n",
       "      <td>0.101117</td>\n",
       "      <td>-0.606271</td>\n",
       "      <td>-0.328313</td>\n",
       "      <td>1.344628</td>\n",
       "      <td>1.282848</td>\n",
       "      <td>2</td>\n",
       "    </tr>\n",
       "  </tbody>\n",
       "</table>\n",
       "</div>"
      ],
      "text/plain": [
       "   final_worth       age  cpi_country  cpi_change_country  gdp_country  \\\n",
       "0    20.985474  0.668256    -0.669309           -0.900768    -0.926038   \n",
       "1    17.833223 -1.066533    -0.397506            0.865352     1.028117   \n",
       "2    11.121978 -0.463128    -0.397506            0.865352     1.028117   \n",
       "3    10.410179  0.969959    -0.397506            0.865352     1.028117   \n",
       "4    10.308494  2.025917    -0.397506            0.865352     1.028117   \n",
       "\n",
       "   tertiary_ed_enroll  primary_ed_enroll  life_expectancy_country  \\\n",
       "0           -0.076167          -0.076103                 1.173475   \n",
       "1            0.982707          -0.224692                 0.101117   \n",
       "2            0.982707          -0.224692                 0.101117   \n",
       "3            0.982707          -0.224692                 0.101117   \n",
       "4            0.982707          -0.224692                 0.101117   \n",
       "\n",
       "   total_tax_rate_country  population_country  industries_total  \\\n",
       "0                1.378036           -0.799548          0.336314   \n",
       "1               -0.606271           -0.328313         -1.499579   \n",
       "2               -0.606271           -0.328313          0.792909   \n",
       "3               -0.606271           -0.328313          0.792909   \n",
       "4               -0.606271           -0.328313          1.344628   \n",
       "\n",
       "   country_total  clusters  \n",
       "0      -1.026671         1  \n",
       "1       1.282848         2  \n",
       "2       1.282848         2  \n",
       "3       1.282848         2  \n",
       "4       1.282848         2  "
      ]
     },
     "execution_count": 35,
     "metadata": {},
     "output_type": "execute_result"
    }
   ],
   "source": [
    "df2.head()"
   ]
  },
  {
   "cell_type": "code",
   "execution_count": 36,
   "id": "5f449eee",
   "metadata": {},
   "outputs": [
    {
     "data": {
      "text/plain": [
       "clusters\n",
       "2    754\n",
       "1    753\n",
       "0    504\n",
       "3    396\n",
       "Name: count, dtype: int64"
      ]
     },
     "execution_count": 36,
     "metadata": {},
     "output_type": "execute_result"
    }
   ],
   "source": [
    "df2['clusters'].value_counts()"
   ]
  },
  {
   "cell_type": "code",
   "execution_count": 37,
   "id": "8603ed8d",
   "metadata": {},
   "outputs": [
    {
     "data": {
      "image/png": "[encoded data removed]",
      "text/plain": [
       "<Figure size 1200x800 with 1 Axes>"
      ]
     },
     "metadata": {},
     "output_type": "display_data"
    }
   ],
   "source": [
    "# Plot the clusters for the \"gdp_country\" and \"country_total\" variables.\n",
    "\n",
    "plt.figure(figsize=(12,8))\n",
    "ax = sns.scatterplot(x=df2['gdp_country'], y=df2['country_total'], hue=kmeans.labels_, s=100) \n",
    "# Here, you're subsetting `X` for the x and y arguments to avoid using their labels. \n",
    "# `hue` takes the value of the attribute `kmeans.labels_`, which is the result of running the k-means algorithm.\n",
    "# `s` represents the size of the points you want to see in the plot.\n",
    "\n",
    "ax.grid(False) # This removes the grid from the background.\n",
    "plt.xlabel('Country GDP') # Label x-axis.\n",
    "plt.ylabel('Number of Billionaires per Country') # Label y-axis.\n",
    "plt.show()"
   ]
  },
  {
   "cell_type": "markdown",
   "id": "bb738d80",
   "metadata": {},
   "source": [
    "#### The two big outliers make the chart scale too small to see details in the remaining data points. They are all clumped on top of each other and so the visualization isn't useful for seeing any patterns."
   ]
  },
  {
   "cell_type": "code",
   "execution_count": 43,
   "id": "6174e22c",
   "metadata": {},
   "outputs": [],
   "source": [
    "# What happens if we remove the two big outliers?\n",
    "\n",
    "# Filter the data frame to exclude 'gdp_country' z-scores over 0\n",
    "filtered_df = df2[df2['gdp_country'] <= 0]"
   ]
  },
  {
   "cell_type": "code",
   "execution_count": 44,
   "id": "0a9bf8d7",
   "metadata": {},
   "outputs": [
    {
     "data": {
      "text/html": [
       "<style>#sk-container-id-4 {color: black;}#sk-container-id-4 pre{padding: 0;}#sk-container-id-4 div.sk-toggleable {background-color: white;}#sk-container-id-4 label.sk-toggleable__label {cursor: pointer;display: block;width: 100%;margin-bottom: 0;padding: 0.3em;box-sizing: border-box;text-align: center;}#sk-container-id-4 label.sk-toggleable__label-arrow:before {content: \"▸\";float: left;margin-right: 0.25em;color: #696969;}#sk-container-id-4 label.sk-toggleable__label-arrow:hover:before {color: black;}#sk-container-id-4 div.sk-estimator:hover label.sk-toggleable__label-arrow:before {color: black;}#sk-container-id-4 div.sk-toggleable__content {max-height: 0;max-width: 0;overflow: hidden;text-align: left;background-color: #f0f8ff;}#sk-container-id-4 div.sk-toggleable__content pre {margin: 0.2em;color: black;border-radius: 0.25em;background-color: #f0f8ff;}#sk-container-id-4 input.sk-toggleable__control:checked~div.sk-toggleable__content {max-height: 200px;max-width: 100%;overflow: auto;}#sk-container-id-4 input.sk-toggleable__control:checked~label.sk-toggleable__label-arrow:before {content: \"▾\";}#sk-container-id-4 div.sk-estimator input.sk-toggleable__control:checked~label.sk-toggleable__label {background-color: #d4ebff;}#sk-container-id-4 div.sk-label input.sk-toggleable__control:checked~label.sk-toggleable__label {background-color: #d4ebff;}#sk-container-id-4 input.sk-hidden--visually {border: 0;clip: rect(1px 1px 1px 1px);clip: rect(1px, 1px, 1px, 1px);height: 1px;margin: -1px;overflow: hidden;padding: 0;position: absolute;width: 1px;}#sk-container-id-4 div.sk-estimator {font-family: monospace;background-color: #f0f8ff;border: 1px dotted black;border-radius: 0.25em;box-sizing: border-box;margin-bottom: 0.5em;}#sk-container-id-4 div.sk-estimator:hover {background-color: #d4ebff;}#sk-container-id-4 div.sk-parallel-item::after {content: \"\";width: 100%;border-bottom: 1px solid gray;flex-grow: 1;}#sk-container-id-4 div.sk-label:hover label.sk-toggleable__label {background-color: #d4ebff;}#sk-container-id-4 div.sk-serial::before {content: \"\";position: absolute;border-left: 1px solid gray;box-sizing: border-box;top: 0;bottom: 0;left: 50%;z-index: 0;}#sk-container-id-4 div.sk-serial {display: flex;flex-direction: column;align-items: center;background-color: white;padding-right: 0.2em;padding-left: 0.2em;position: relative;}#sk-container-id-4 div.sk-item {position: relative;z-index: 1;}#sk-container-id-4 div.sk-parallel {display: flex;align-items: stretch;justify-content: center;background-color: white;position: relative;}#sk-container-id-4 div.sk-item::before, #sk-container-id-4 div.sk-parallel-item::before {content: \"\";position: absolute;border-left: 1px solid gray;box-sizing: border-box;top: 0;bottom: 0;left: 50%;z-index: -1;}#sk-container-id-4 div.sk-parallel-item {display: flex;flex-direction: column;z-index: 1;position: relative;background-color: white;}#sk-container-id-4 div.sk-parallel-item:first-child::after {align-self: flex-end;width: 50%;}#sk-container-id-4 div.sk-parallel-item:last-child::after {align-self: flex-start;width: 50%;}#sk-container-id-4 div.sk-parallel-item:only-child::after {width: 0;}#sk-container-id-4 div.sk-dashed-wrapped {border: 1px dashed gray;margin: 0 0.4em 0.5em 0.4em;box-sizing: border-box;padding-bottom: 0.4em;background-color: white;}#sk-container-id-4 div.sk-label label {font-family: monospace;font-weight: bold;display: inline-block;line-height: 1.2em;}#sk-container-id-4 div.sk-label-container {text-align: center;}#sk-container-id-4 div.sk-container {/* jupyter's `normalize.less` sets `[hidden] { display: none; }` but bootstrap.min.css set `[hidden] { display: none !important; }` so we also need the `!important` here to be able to override the default hidden behavior on the sphinx rendered scikit-learn.org. See: https://github.com/scikit-learn/scikit-learn/issues/21755 */display: inline-block !important;position: relative;}#sk-container-id-4 div.sk-text-repr-fallback {display: none;}</style><div id=\"sk-container-id-4\" class=\"sk-top-container\"><div class=\"sk-text-repr-fallback\"><pre>KMeans(n_clusters=4, n_init=10)</pre><b>In a Jupyter environment, please rerun this cell to show the HTML representation or trust the notebook. <br />On GitHub, the HTML representation is unable to render, please try loading this page with nbviewer.org.</b></div><div class=\"sk-container\" hidden><div class=\"sk-item\"><div class=\"sk-estimator sk-toggleable\"><input class=\"sk-toggleable__control sk-hidden--visually\" id=\"sk-estimator-id-4\" type=\"checkbox\" checked><label for=\"sk-estimator-id-4\" class=\"sk-toggleable__label sk-toggleable__label-arrow\">KMeans</label><div class=\"sk-toggleable__content\"><pre>KMeans(n_clusters=4, n_init=10)</pre></div></div></div></div></div>"
      ],
      "text/plain": [
       "KMeans(n_clusters=4, n_init=10)"
      ]
     },
     "execution_count": 44,
     "metadata": {},
     "output_type": "execute_result"
    }
   ],
   "source": [
    "# Fit the k-means object to the data.\n",
    "\n",
    "kmeans.fit(filtered_df)"
   ]
  },
  {
   "cell_type": "code",
   "execution_count": 45,
   "id": "41a62473",
   "metadata": {},
   "outputs": [
    {
     "data": {
      "image/png": "[encoded data removed]",
      "text/plain": [
       "<Figure size 1200x800 with 1 Axes>"
      ]
     },
     "metadata": {},
     "output_type": "display_data"
    }
   ],
   "source": [
    "plt.figure(figsize=(12,8))\n",
    "ax = sns.scatterplot(x=filtered_df['gdp_country'], y=filtered_df['country_total'], hue=kmeans.labels_, s=100) \n",
    "# Here, you're subsetting `X` for the x and y arguments to avoid using their labels. \n",
    "# `hue` takes the value of the attribute `kmeans.labels_`, which is the result of running the k-means algorithm.\n",
    "# `s` represents the size of the points you want to see in the plot.\n",
    "\n",
    "ax.grid(False) # This removes the grid from the background.\n",
    "plt.xlabel('Country GDP') # Label x-axis.\n",
    "plt.ylabel('Number of Billionaires per Country') # Label y-axis.\n",
    "plt.show()"
   ]
  },
  {
   "cell_type": "markdown",
   "id": "3d9081ce",
   "metadata": {},
   "source": [
    "#### The dots are still so densely clustered in the bottom corner, that it is still not a very useful visualization. I can see that the dark purple points, which are the smallest cluster, only have data points at least one point below the standard deviation for both variables. But when those standard deviations were calculated, they took into account the two extreme outliers that skewed all other data points to be under the standard deviation. Regardless, I don't get much useful information from this chart."
   ]
  },
  {
   "cell_type": "code",
   "execution_count": 38,
   "id": "1ec17393",
   "metadata": {},
   "outputs": [
    {
     "data": {
      "image/png": "[encoded data removed]",
      "text/plain": [
       "<Figure size 1200x800 with 1 Axes>"
      ]
     },
     "metadata": {},
     "output_type": "display_data"
    }
   ],
   "source": [
    "# Plot the clusters for the \"final_worth\" and \"age\" variables.\n",
    "\n",
    "plt.figure(figsize=(12,8))\n",
    "ax = sns.scatterplot(x=df2['age'], y=df2['final_worth'], hue=kmeans.labels_, s=100) \n",
    "# Here, you're subsetting `X` for the x and y arguments to avoid using their labels. \n",
    "# `hue` takes the value of the attribute `kmeans.labels_`, which is the result of running the k-means algorithm.\n",
    "# `s` represents the size of the points you want to see in the plot.\n",
    "\n",
    "ax.grid(False) # This removes the grid from the background.\n",
    "plt.xlabel('Age') # Label x-axis.\n",
    "plt.ylabel('Final Worth') # Label y-axis.\n",
    "plt.show()"
   ]
  },
  {
   "cell_type": "markdown",
   "id": "c9dd94b8",
   "metadata": {},
   "source": [
    "#### I don't see any pattern to the clusters in this chart other than that the pink has the lowest age. Light pink spans the age range with perhaps an exception to the highest deviations in age. However, it is hard to tell because there are so many overlapping data points, I can't really know for sure how high the ages go for that cluster."
   ]
  },
  {
   "cell_type": "code",
   "execution_count": 46,
   "id": "7121de1a",
   "metadata": {},
   "outputs": [
    {
     "data": {
      "text/html": [
       "<style>#sk-container-id-5 {color: black;}#sk-container-id-5 pre{padding: 0;}#sk-container-id-5 div.sk-toggleable {background-color: white;}#sk-container-id-5 label.sk-toggleable__label {cursor: pointer;display: block;width: 100%;margin-bottom: 0;padding: 0.3em;box-sizing: border-box;text-align: center;}#sk-container-id-5 label.sk-toggleable__label-arrow:before {content: \"▸\";float: left;margin-right: 0.25em;color: #696969;}#sk-container-id-5 label.sk-toggleable__label-arrow:hover:before {color: black;}#sk-container-id-5 div.sk-estimator:hover label.sk-toggleable__label-arrow:before {color: black;}#sk-container-id-5 div.sk-toggleable__content {max-height: 0;max-width: 0;overflow: hidden;text-align: left;background-color: #f0f8ff;}#sk-container-id-5 div.sk-toggleable__content pre {margin: 0.2em;color: black;border-radius: 0.25em;background-color: #f0f8ff;}#sk-container-id-5 input.sk-toggleable__control:checked~div.sk-toggleable__content {max-height: 200px;max-width: 100%;overflow: auto;}#sk-container-id-5 input.sk-toggleable__control:checked~label.sk-toggleable__label-arrow:before {content: \"▾\";}#sk-container-id-5 div.sk-estimator input.sk-toggleable__control:checked~label.sk-toggleable__label {background-color: #d4ebff;}#sk-container-id-5 div.sk-label input.sk-toggleable__control:checked~label.sk-toggleable__label {background-color: #d4ebff;}#sk-container-id-5 input.sk-hidden--visually {border: 0;clip: rect(1px 1px 1px 1px);clip: rect(1px, 1px, 1px, 1px);height: 1px;margin: -1px;overflow: hidden;padding: 0;position: absolute;width: 1px;}#sk-container-id-5 div.sk-estimator {font-family: monospace;background-color: #f0f8ff;border: 1px dotted black;border-radius: 0.25em;box-sizing: border-box;margin-bottom: 0.5em;}#sk-container-id-5 div.sk-estimator:hover {background-color: #d4ebff;}#sk-container-id-5 div.sk-parallel-item::after {content: \"\";width: 100%;border-bottom: 1px solid gray;flex-grow: 1;}#sk-container-id-5 div.sk-label:hover label.sk-toggleable__label {background-color: #d4ebff;}#sk-container-id-5 div.sk-serial::before {content: \"\";position: absolute;border-left: 1px solid gray;box-sizing: border-box;top: 0;bottom: 0;left: 50%;z-index: 0;}#sk-container-id-5 div.sk-serial {display: flex;flex-direction: column;align-items: center;background-color: white;padding-right: 0.2em;padding-left: 0.2em;position: relative;}#sk-container-id-5 div.sk-item {position: relative;z-index: 1;}#sk-container-id-5 div.sk-parallel {display: flex;align-items: stretch;justify-content: center;background-color: white;position: relative;}#sk-container-id-5 div.sk-item::before, #sk-container-id-5 div.sk-parallel-item::before {content: \"\";position: absolute;border-left: 1px solid gray;box-sizing: border-box;top: 0;bottom: 0;left: 50%;z-index: -1;}#sk-container-id-5 div.sk-parallel-item {display: flex;flex-direction: column;z-index: 1;position: relative;background-color: white;}#sk-container-id-5 div.sk-parallel-item:first-child::after {align-self: flex-end;width: 50%;}#sk-container-id-5 div.sk-parallel-item:last-child::after {align-self: flex-start;width: 50%;}#sk-container-id-5 div.sk-parallel-item:only-child::after {width: 0;}#sk-container-id-5 div.sk-dashed-wrapped {border: 1px dashed gray;margin: 0 0.4em 0.5em 0.4em;box-sizing: border-box;padding-bottom: 0.4em;background-color: white;}#sk-container-id-5 div.sk-label label {font-family: monospace;font-weight: bold;display: inline-block;line-height: 1.2em;}#sk-container-id-5 div.sk-label-container {text-align: center;}#sk-container-id-5 div.sk-container {/* jupyter's `normalize.less` sets `[hidden] { display: none; }` but bootstrap.min.css set `[hidden] { display: none !important; }` so we also need the `!important` here to be able to override the default hidden behavior on the sphinx rendered scikit-learn.org. See: https://github.com/scikit-learn/scikit-learn/issues/21755 */display: inline-block !important;position: relative;}#sk-container-id-5 div.sk-text-repr-fallback {display: none;}</style><div id=\"sk-container-id-5\" class=\"sk-top-container\"><div class=\"sk-text-repr-fallback\"><pre>KMeans(n_clusters=4, n_init=10)</pre><b>In a Jupyter environment, please rerun this cell to show the HTML representation or trust the notebook. <br />On GitHub, the HTML representation is unable to render, please try loading this page with nbviewer.org.</b></div><div class=\"sk-container\" hidden><div class=\"sk-item\"><div class=\"sk-estimator sk-toggleable\"><input class=\"sk-toggleable__control sk-hidden--visually\" id=\"sk-estimator-id-5\" type=\"checkbox\" checked><label for=\"sk-estimator-id-5\" class=\"sk-toggleable__label sk-toggleable__label-arrow\">KMeans</label><div class=\"sk-toggleable__content\"><pre>KMeans(n_clusters=4, n_init=10)</pre></div></div></div></div></div>"
      ],
      "text/plain": [
       "KMeans(n_clusters=4, n_init=10)"
      ]
     },
     "execution_count": 46,
     "metadata": {},
     "output_type": "execute_result"
    }
   ],
   "source": [
    "# Fit the k-means object to the data.\n",
    "\n",
    "kmeans.fit(df2)"
   ]
  },
  {
   "cell_type": "code",
   "execution_count": 47,
   "id": "a229a88a",
   "metadata": {},
   "outputs": [
    {
     "data": {
      "image/png": "[encoded data removed]",
      "text/plain": [
       "<Figure size 1200x800 with 1 Axes>"
      ]
     },
     "metadata": {},
     "output_type": "display_data"
    }
   ],
   "source": [
    "# # Plot the clusters for the \"cpi_country\" and \"country_total\" variables.\n",
    "\n",
    "plt.figure(figsize=(12,8))\n",
    "ax = sns.scatterplot(x=df2['cpi_country'], y=df2['country_total'], hue=kmeans.labels_, s=100) \n",
    "# Here, you're subsetting `X` for the x and y arguments to avoid using their labels. \n",
    "# `hue` takes the value of the attribute `kmeans.labels_`, which is the result of running the k-means algorithm.\n",
    "# `s` represents the size of the points you want to see in the plot.\n",
    "\n",
    "ax.grid(False) # This removes the grid from the background.\n",
    "plt.xlabel('Consumer Price Index by Country') # Label x-axis.\n",
    "plt.ylabel('Total Number of Billionaires by Country') # Label y-axis.\n",
    "plt.show()"
   ]
  },
  {
   "cell_type": "markdown",
   "id": "8eb40bfa",
   "metadata": {},
   "source": [
    "#### It would appear that most billionaires live in countries with a lower consumper price index (a measurement of inflation)."
   ]
  },
  {
   "cell_type": "markdown",
   "id": "078cece6",
   "metadata": {},
   "source": [
    "## 5. Descriptive statistics and conclusions"
   ]
  },
  {
   "cell_type": "code",
   "execution_count": 48,
   "id": "d99ac557",
   "metadata": {},
   "outputs": [],
   "source": [
    "# Descriptive statistics\n",
    "\n",
    "df2.loc[df2['clusters'] == 3, 'cluster'] = 'dark purple'\n",
    "df2.loc[df2['clusters'] == 2, 'cluster'] = 'purple'\n",
    "df2.loc[df2['clusters'] == 1, 'cluster'] = 'pink'\n",
    "df2.loc[df2['clusters'] == 0, 'cluster'] = 'light pink'"
   ]
  },
  {
   "cell_type": "code",
   "execution_count": 49,
   "id": "38dfbc0b",
   "metadata": {},
   "outputs": [
    {
     "data": {
      "text/html": [
       "<div>\n",
       "<style scoped>\n",
       "    .dataframe tbody tr th:only-of-type {\n",
       "        vertical-align: middle;\n",
       "    }\n",
       "\n",
       "    .dataframe tbody tr th {\n",
       "        vertical-align: top;\n",
       "    }\n",
       "\n",
       "    .dataframe thead tr th {\n",
       "        text-align: left;\n",
       "    }\n",
       "\n",
       "    .dataframe thead tr:last-of-type th {\n",
       "        text-align: right;\n",
       "    }\n",
       "</style>\n",
       "<table border=\"1\" class=\"dataframe\">\n",
       "  <thead>\n",
       "    <tr>\n",
       "      <th></th>\n",
       "      <th colspan=\"2\" halign=\"left\">gdp_country</th>\n",
       "      <th colspan=\"2\" halign=\"left\">country_total</th>\n",
       "      <th colspan=\"2\" halign=\"left\">age</th>\n",
       "      <th colspan=\"2\" halign=\"left\">final_worth</th>\n",
       "      <th colspan=\"2\" halign=\"left\">cpi_country</th>\n",
       "    </tr>\n",
       "    <tr>\n",
       "      <th></th>\n",
       "      <th>mean</th>\n",
       "      <th>median</th>\n",
       "      <th>mean</th>\n",
       "      <th>median</th>\n",
       "      <th>mean</th>\n",
       "      <th>median</th>\n",
       "      <th>mean</th>\n",
       "      <th>median</th>\n",
       "      <th>mean</th>\n",
       "      <th>median</th>\n",
       "    </tr>\n",
       "    <tr>\n",
       "      <th>cluster</th>\n",
       "      <th></th>\n",
       "      <th></th>\n",
       "      <th></th>\n",
       "      <th></th>\n",
       "      <th></th>\n",
       "      <th></th>\n",
       "      <th></th>\n",
       "      <th></th>\n",
       "      <th></th>\n",
       "      <th></th>\n",
       "    </tr>\n",
       "  </thead>\n",
       "  <tbody>\n",
       "    <tr>\n",
       "      <th>dark purple</th>\n",
       "      <td>-1.024525</td>\n",
       "      <td>-1.017495</td>\n",
       "      <td>-0.858553</td>\n",
       "      <td>-0.885337</td>\n",
       "      <td>0.097802</td>\n",
       "      <td>0.140277</td>\n",
       "      <td>-0.055701</td>\n",
       "      <td>-0.246464</td>\n",
       "      <td>1.996072</td>\n",
       "      <td>1.991642</td>\n",
       "    </tr>\n",
       "    <tr>\n",
       "      <th>light pink</th>\n",
       "      <td>0.869620</td>\n",
       "      <td>0.869620</td>\n",
       "      <td>0.540847</td>\n",
       "      <td>0.540847</td>\n",
       "      <td>-0.486025</td>\n",
       "      <td>-0.538553</td>\n",
       "      <td>-0.112982</td>\n",
       "      <td>-0.276970</td>\n",
       "      <td>-0.101131</td>\n",
       "      <td>-0.101131</td>\n",
       "    </tr>\n",
       "    <tr>\n",
       "      <th>pink</th>\n",
       "      <td>-1.025296</td>\n",
       "      <td>-1.064035</td>\n",
       "      <td>-0.980664</td>\n",
       "      <td>-1.000974</td>\n",
       "      <td>0.054434</td>\n",
       "      <td>0.140277</td>\n",
       "      <td>-0.002108</td>\n",
       "      <td>-0.226127</td>\n",
       "      <td>-0.566373</td>\n",
       "      <td>-0.563461</td>\n",
       "    </tr>\n",
       "    <tr>\n",
       "      <th>purple</th>\n",
       "      <td>1.028117</td>\n",
       "      <td>1.028117</td>\n",
       "      <td>1.282848</td>\n",
       "      <td>1.282848</td>\n",
       "      <td>0.163385</td>\n",
       "      <td>0.140277</td>\n",
       "      <td>0.146832</td>\n",
       "      <td>-0.175284</td>\n",
       "      <td>-0.397506</td>\n",
       "      <td>-0.397506</td>\n",
       "    </tr>\n",
       "  </tbody>\n",
       "</table>\n",
       "</div>"
      ],
      "text/plain": [
       "            gdp_country           country_total                 age            \\\n",
       "                   mean    median          mean    median      mean    median   \n",
       "cluster                                                                         \n",
       "dark purple   -1.024525 -1.017495     -0.858553 -0.885337  0.097802  0.140277   \n",
       "light pink     0.869620  0.869620      0.540847  0.540847 -0.486025 -0.538553   \n",
       "pink          -1.025296 -1.064035     -0.980664 -1.000974  0.054434  0.140277   \n",
       "purple         1.028117  1.028117      1.282848  1.282848  0.163385  0.140277   \n",
       "\n",
       "            final_worth           cpi_country            \n",
       "                   mean    median        mean    median  \n",
       "cluster                                                  \n",
       "dark purple   -0.055701 -0.246464    1.996072  1.991642  \n",
       "light pink    -0.112982 -0.276970   -0.101131 -0.101131  \n",
       "pink          -0.002108 -0.226127   -0.566373 -0.563461  \n",
       "purple         0.146832 -0.175284   -0.397506 -0.397506  "
      ]
     },
     "execution_count": 49,
     "metadata": {},
     "output_type": "execute_result"
    }
   ],
   "source": [
    "df2.groupby('cluster').agg({'gdp_country':['mean', 'median'], \n",
    "                         'country_total':['mean', 'median'], \n",
    "                         'age':['mean', 'median'],\n",
    "                          'final_worth':['mean', 'median'],\n",
    "                           'cpi_country':['mean', 'median']})"
   ]
  },
  {
   "cell_type": "markdown",
   "id": "8922de34",
   "metadata": {},
   "source": [
    "#### The purple cluster seems to have the best stats in most categories with the exception of 'cpi_country', in which the pink cluster has a lower z-score for inflation.\n",
    "#### Regarding the ages of billionaires, the light pink cluster has the overall youngest billionaires and the purple cluster has the oldest. If age is a factor, it seems to be better to be older than younger. The purple cluster, with the oldest billionaires, also has the best stats in most other areas (except CPI). While the light pink cluster, with the youngest billionaires, has the lowest final worth and the 3rd highest CPI.\n",
    "#### While the pink cluster has the lowest z-score for inflation, it also has the lowest overall GDP per country and the lowest number of billionaires per country.\n",
    "#### A country's GDP and it's total number of billionaires are ranked hand in hand. Pink has the lowest of both, dark purple next, then pink third, and purple has the highest of both."
   ]
  },
  {
   "cell_type": "markdown",
   "id": "83cf74f5",
   "metadata": {},
   "source": [
    "### Results could be useful for in future steps of an analytics pipeline:\n",
    "#### 1. Age may be a factor in building wealth. The older the billionaire, the higher the final worth and the more of them there are.\n",
    "#### 2. There seems to be a close relationship between a country's GDP and its number of billionaires.\n",
    "#### 3. It seems most billionaires live in countries with low CPI."
   ]
  },
  {
   "cell_type": "code",
   "execution_count": null,
   "id": "65e85b60",
   "metadata": {},
   "outputs": [],
   "source": []
  }
 ],
 "metadata": {
  "kernelspec": {
   "display_name": "Python 3 (ipykernel)",
   "language": "python",
   "name": "python3"
  },
  "language_info": {
   "codemirror_mode": {
    "name": "ipython",
    "version": 3
   },
   "file_extension": ".py",
   "mimetype": "text/x-python",
   "name": "python",
   "nbconvert_exporter": "python",
   "pygments_lexer": "ipython3",
   "version": "3.11.4"
  }
 },
 "nbformat": 4,
 "nbformat_minor": 5
}
