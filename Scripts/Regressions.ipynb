{
 "cells": [
  {
   "cell_type": "markdown",
   "id": "b6c7b671",
   "metadata": {},
   "source": [
    "# Regressions"
   ]
  },
  {
   "cell_type": "markdown",
   "id": "a6b2ba81",
   "metadata": {},
   "source": [
    "## Index for this notebook:\n",
    "### 1. Import libraries and data set\n",
    "### 2. Scatterplot explorations\n",
    "### 3. Split the data into two sets: a training set and a test set\n",
    "### 4. Run linear regression\n",
    "### 5. Check the model performance statistics—MSE and R2 score"
   ]
  },
  {
   "cell_type": "markdown",
   "id": "a455579a",
   "metadata": {},
   "source": [
    "## 1. Import libraries and data set"
   ]
  },
  {
   "cell_type": "code",
   "execution_count": 1,
   "id": "c535bda3",
   "metadata": {},
   "outputs": [],
   "source": [
    "import pandas as pd\n",
    "import numpy as np\n",
    "import seaborn as sns\n",
    "import matplotlib\n",
    "import matplotlib.pyplot as plt\n",
    "import os\n",
    "import sklearn\n",
    "from sklearn.model_selection import train_test_split\n",
    "from sklearn.linear_model import LinearRegression\n",
    "from sklearn.metrics import mean_squared_error, r2_score"
   ]
  },
  {
   "cell_type": "code",
   "execution_count": 2,
   "id": "65f9e7f0",
   "metadata": {},
   "outputs": [],
   "source": [
    "path = r'C:\\Users\\Karen\\Documents\\Personal\\Data Analytics\\Career Foundry\\Achievement 6'"
   ]
  },
  {
   "cell_type": "code",
   "execution_count": 4,
   "id": "7116c4b6",
   "metadata": {},
   "outputs": [],
   "source": [
    "df = pd.read_csv(os.path.join(path, 'Data', 'Prepared Data', 'billionaires_updated1.csv'), index_col = None)"
   ]
  },
  {
   "cell_type": "code",
   "execution_count": 6,
   "id": "4068ee8c",
   "metadata": {},
   "outputs": [],
   "source": [
    "# To display charts in the notebook without calling them\n",
    "\n",
    "%matplotlib inline"
   ]
  },
  {
   "cell_type": "code",
   "execution_count": 7,
   "id": "6bf81814",
   "metadata": {},
   "outputs": [],
   "source": [
    "# Removing the limit to columns displayed\n",
    "\n",
    "pd.options.display.max_columns = None"
   ]
  },
  {
   "cell_type": "code",
   "execution_count": 8,
   "id": "39e02349",
   "metadata": {},
   "outputs": [
    {
     "data": {
      "text/html": [
       "<div>\n",
       "<style scoped>\n",
       "    .dataframe tbody tr th:only-of-type {\n",
       "        vertical-align: middle;\n",
       "    }\n",
       "\n",
       "    .dataframe tbody tr th {\n",
       "        vertical-align: top;\n",
       "    }\n",
       "\n",
       "    .dataframe thead th {\n",
       "        text-align: right;\n",
       "    }\n",
       "</style>\n",
       "<table border=\"1\" class=\"dataframe\">\n",
       "  <thead>\n",
       "    <tr style=\"text-align: right;\">\n",
       "      <th></th>\n",
       "      <th>Unnamed: 0</th>\n",
       "      <th>rank</th>\n",
       "      <th>final_worth</th>\n",
       "      <th>name</th>\n",
       "      <th>age</th>\n",
       "      <th>country</th>\n",
       "      <th>city</th>\n",
       "      <th>industries</th>\n",
       "      <th>citizenship_country</th>\n",
       "      <th>self_made</th>\n",
       "      <th>gender</th>\n",
       "      <th>state</th>\n",
       "      <th>state_region</th>\n",
       "      <th>cpi_country</th>\n",
       "      <th>cpi_change_country</th>\n",
       "      <th>gdp_country</th>\n",
       "      <th>tertiary_ed_enroll</th>\n",
       "      <th>primary_ed_enroll</th>\n",
       "      <th>life_expectancy_country</th>\n",
       "      <th>total_tax_rate_country</th>\n",
       "      <th>population_country</th>\n",
       "      <th>latitude_country</th>\n",
       "      <th>longitude_country</th>\n",
       "      <th>industries_total</th>\n",
       "      <th>country_total</th>\n",
       "      <th>wealth_category</th>\n",
       "      <th>age_category</th>\n",
       "    </tr>\n",
       "  </thead>\n",
       "  <tbody>\n",
       "    <tr>\n",
       "      <th>0</th>\n",
       "      <td>0</td>\n",
       "      <td>1</td>\n",
       "      <td>211000</td>\n",
       "      <td>Bernard Arnault &amp; family</td>\n",
       "      <td>74.0</td>\n",
       "      <td>France</td>\n",
       "      <td>Paris</td>\n",
       "      <td>Fashion &amp; Retail</td>\n",
       "      <td>France</td>\n",
       "      <td>False</td>\n",
       "      <td>M</td>\n",
       "      <td>NaN</td>\n",
       "      <td>NaN</td>\n",
       "      <td>110.05</td>\n",
       "      <td>1.1</td>\n",
       "      <td>2.715518e+12</td>\n",
       "      <td>65.6</td>\n",
       "      <td>102.5</td>\n",
       "      <td>82.5</td>\n",
       "      <td>60.7</td>\n",
       "      <td>67059887.0</td>\n",
       "      <td>46.227638</td>\n",
       "      <td>2.213749</td>\n",
       "      <td>266</td>\n",
       "      <td>35.0</td>\n",
       "      <td>&gt;=50B</td>\n",
       "      <td>old</td>\n",
       "    </tr>\n",
       "    <tr>\n",
       "      <th>1</th>\n",
       "      <td>1</td>\n",
       "      <td>2</td>\n",
       "      <td>180000</td>\n",
       "      <td>Elon Musk</td>\n",
       "      <td>51.0</td>\n",
       "      <td>United States</td>\n",
       "      <td>Austin</td>\n",
       "      <td>Automotive</td>\n",
       "      <td>United States</td>\n",
       "      <td>True</td>\n",
       "      <td>M</td>\n",
       "      <td>Texas</td>\n",
       "      <td>South</td>\n",
       "      <td>117.24</td>\n",
       "      <td>7.5</td>\n",
       "      <td>2.142770e+13</td>\n",
       "      <td>88.2</td>\n",
       "      <td>101.8</td>\n",
       "      <td>78.5</td>\n",
       "      <td>36.6</td>\n",
       "      <td>328239523.0</td>\n",
       "      <td>37.090240</td>\n",
       "      <td>-95.712891</td>\n",
       "      <td>73</td>\n",
       "      <td>754.0</td>\n",
       "      <td>&gt;=50B</td>\n",
       "      <td>middle-aged</td>\n",
       "    </tr>\n",
       "    <tr>\n",
       "      <th>2</th>\n",
       "      <td>2</td>\n",
       "      <td>3</td>\n",
       "      <td>114000</td>\n",
       "      <td>Jeff Bezos</td>\n",
       "      <td>59.0</td>\n",
       "      <td>United States</td>\n",
       "      <td>Medina</td>\n",
       "      <td>Technology</td>\n",
       "      <td>United States</td>\n",
       "      <td>True</td>\n",
       "      <td>M</td>\n",
       "      <td>Washington</td>\n",
       "      <td>West</td>\n",
       "      <td>117.24</td>\n",
       "      <td>7.5</td>\n",
       "      <td>2.142770e+13</td>\n",
       "      <td>88.2</td>\n",
       "      <td>101.8</td>\n",
       "      <td>78.5</td>\n",
       "      <td>36.6</td>\n",
       "      <td>328239523.0</td>\n",
       "      <td>37.090240</td>\n",
       "      <td>-95.712891</td>\n",
       "      <td>314</td>\n",
       "      <td>754.0</td>\n",
       "      <td>&gt;=50B</td>\n",
       "      <td>middle-aged</td>\n",
       "    </tr>\n",
       "    <tr>\n",
       "      <th>3</th>\n",
       "      <td>3</td>\n",
       "      <td>4</td>\n",
       "      <td>107000</td>\n",
       "      <td>Larry Ellison</td>\n",
       "      <td>78.0</td>\n",
       "      <td>United States</td>\n",
       "      <td>Lanai</td>\n",
       "      <td>Technology</td>\n",
       "      <td>United States</td>\n",
       "      <td>True</td>\n",
       "      <td>M</td>\n",
       "      <td>Hawaii</td>\n",
       "      <td>West</td>\n",
       "      <td>117.24</td>\n",
       "      <td>7.5</td>\n",
       "      <td>2.142770e+13</td>\n",
       "      <td>88.2</td>\n",
       "      <td>101.8</td>\n",
       "      <td>78.5</td>\n",
       "      <td>36.6</td>\n",
       "      <td>328239523.0</td>\n",
       "      <td>37.090240</td>\n",
       "      <td>-95.712891</td>\n",
       "      <td>314</td>\n",
       "      <td>754.0</td>\n",
       "      <td>&gt;=50B</td>\n",
       "      <td>old</td>\n",
       "    </tr>\n",
       "    <tr>\n",
       "      <th>4</th>\n",
       "      <td>4</td>\n",
       "      <td>5</td>\n",
       "      <td>106000</td>\n",
       "      <td>Warren Buffett</td>\n",
       "      <td>92.0</td>\n",
       "      <td>United States</td>\n",
       "      <td>Omaha</td>\n",
       "      <td>Finance &amp; Investments</td>\n",
       "      <td>United States</td>\n",
       "      <td>True</td>\n",
       "      <td>M</td>\n",
       "      <td>Nebraska</td>\n",
       "      <td>Midwest</td>\n",
       "      <td>117.24</td>\n",
       "      <td>7.5</td>\n",
       "      <td>2.142770e+13</td>\n",
       "      <td>88.2</td>\n",
       "      <td>101.8</td>\n",
       "      <td>78.5</td>\n",
       "      <td>36.6</td>\n",
       "      <td>328239523.0</td>\n",
       "      <td>37.090240</td>\n",
       "      <td>-95.712891</td>\n",
       "      <td>372</td>\n",
       "      <td>754.0</td>\n",
       "      <td>&gt;=50B</td>\n",
       "      <td>very old</td>\n",
       "    </tr>\n",
       "  </tbody>\n",
       "</table>\n",
       "</div>"
      ],
      "text/plain": [
       "   Unnamed: 0  rank  final_worth                      name   age  \\\n",
       "0           0     1       211000  Bernard Arnault & family  74.0   \n",
       "1           1     2       180000                 Elon Musk  51.0   \n",
       "2           2     3       114000                Jeff Bezos  59.0   \n",
       "3           3     4       107000             Larry Ellison  78.0   \n",
       "4           4     5       106000            Warren Buffett  92.0   \n",
       "\n",
       "         country    city             industries citizenship_country  \\\n",
       "0         France   Paris       Fashion & Retail              France   \n",
       "1  United States  Austin             Automotive       United States   \n",
       "2  United States  Medina             Technology       United States   \n",
       "3  United States   Lanai             Technology       United States   \n",
       "4  United States   Omaha  Finance & Investments       United States   \n",
       "\n",
       "   self_made gender       state state_region  cpi_country  cpi_change_country  \\\n",
       "0      False      M         NaN          NaN       110.05                 1.1   \n",
       "1       True      M       Texas        South       117.24                 7.5   \n",
       "2       True      M  Washington         West       117.24                 7.5   \n",
       "3       True      M      Hawaii         West       117.24                 7.5   \n",
       "4       True      M    Nebraska      Midwest       117.24                 7.5   \n",
       "\n",
       "    gdp_country  tertiary_ed_enroll  primary_ed_enroll  \\\n",
       "0  2.715518e+12                65.6              102.5   \n",
       "1  2.142770e+13                88.2              101.8   \n",
       "2  2.142770e+13                88.2              101.8   \n",
       "3  2.142770e+13                88.2              101.8   \n",
       "4  2.142770e+13                88.2              101.8   \n",
       "\n",
       "   life_expectancy_country  total_tax_rate_country  population_country  \\\n",
       "0                     82.5                    60.7          67059887.0   \n",
       "1                     78.5                    36.6         328239523.0   \n",
       "2                     78.5                    36.6         328239523.0   \n",
       "3                     78.5                    36.6         328239523.0   \n",
       "4                     78.5                    36.6         328239523.0   \n",
       "\n",
       "   latitude_country  longitude_country  industries_total  country_total  \\\n",
       "0         46.227638           2.213749               266           35.0   \n",
       "1         37.090240         -95.712891                73          754.0   \n",
       "2         37.090240         -95.712891               314          754.0   \n",
       "3         37.090240         -95.712891               314          754.0   \n",
       "4         37.090240         -95.712891               372          754.0   \n",
       "\n",
       "  wealth_category age_category  \n",
       "0           >=50B          old  \n",
       "1           >=50B  middle-aged  \n",
       "2           >=50B  middle-aged  \n",
       "3           >=50B          old  \n",
       "4           >=50B     very old  "
      ]
     },
     "execution_count": 8,
     "metadata": {},
     "output_type": "execute_result"
    }
   ],
   "source": [
    "df.head()"
   ]
  },
  {
   "cell_type": "code",
   "execution_count": 9,
   "id": "6715ee5b",
   "metadata": {},
   "outputs": [],
   "source": [
    "# Deleting the extra index column\n",
    "\n",
    "df.drop(columns = 'Unnamed: 0', inplace = True)"
   ]
  },
  {
   "cell_type": "code",
   "execution_count": 10,
   "id": "2763c588",
   "metadata": {},
   "outputs": [
    {
     "data": {
      "text/html": [
       "<div>\n",
       "<style scoped>\n",
       "    .dataframe tbody tr th:only-of-type {\n",
       "        vertical-align: middle;\n",
       "    }\n",
       "\n",
       "    .dataframe tbody tr th {\n",
       "        vertical-align: top;\n",
       "    }\n",
       "\n",
       "    .dataframe thead th {\n",
       "        text-align: right;\n",
       "    }\n",
       "</style>\n",
       "<table border=\"1\" class=\"dataframe\">\n",
       "  <thead>\n",
       "    <tr style=\"text-align: right;\">\n",
       "      <th></th>\n",
       "      <th>rank</th>\n",
       "      <th>final_worth</th>\n",
       "      <th>name</th>\n",
       "      <th>age</th>\n",
       "      <th>country</th>\n",
       "      <th>city</th>\n",
       "      <th>industries</th>\n",
       "      <th>citizenship_country</th>\n",
       "      <th>self_made</th>\n",
       "      <th>gender</th>\n",
       "      <th>state</th>\n",
       "      <th>state_region</th>\n",
       "      <th>cpi_country</th>\n",
       "      <th>cpi_change_country</th>\n",
       "      <th>gdp_country</th>\n",
       "      <th>tertiary_ed_enroll</th>\n",
       "      <th>primary_ed_enroll</th>\n",
       "      <th>life_expectancy_country</th>\n",
       "      <th>total_tax_rate_country</th>\n",
       "      <th>population_country</th>\n",
       "      <th>latitude_country</th>\n",
       "      <th>longitude_country</th>\n",
       "      <th>industries_total</th>\n",
       "      <th>country_total</th>\n",
       "      <th>wealth_category</th>\n",
       "      <th>age_category</th>\n",
       "    </tr>\n",
       "  </thead>\n",
       "  <tbody>\n",
       "    <tr>\n",
       "      <th>0</th>\n",
       "      <td>1</td>\n",
       "      <td>211000</td>\n",
       "      <td>Bernard Arnault &amp; family</td>\n",
       "      <td>74.0</td>\n",
       "      <td>France</td>\n",
       "      <td>Paris</td>\n",
       "      <td>Fashion &amp; Retail</td>\n",
       "      <td>France</td>\n",
       "      <td>False</td>\n",
       "      <td>M</td>\n",
       "      <td>NaN</td>\n",
       "      <td>NaN</td>\n",
       "      <td>110.05</td>\n",
       "      <td>1.1</td>\n",
       "      <td>2.715518e+12</td>\n",
       "      <td>65.6</td>\n",
       "      <td>102.5</td>\n",
       "      <td>82.5</td>\n",
       "      <td>60.7</td>\n",
       "      <td>67059887.0</td>\n",
       "      <td>46.227638</td>\n",
       "      <td>2.213749</td>\n",
       "      <td>266</td>\n",
       "      <td>35.0</td>\n",
       "      <td>&gt;=50B</td>\n",
       "      <td>old</td>\n",
       "    </tr>\n",
       "    <tr>\n",
       "      <th>1</th>\n",
       "      <td>2</td>\n",
       "      <td>180000</td>\n",
       "      <td>Elon Musk</td>\n",
       "      <td>51.0</td>\n",
       "      <td>United States</td>\n",
       "      <td>Austin</td>\n",
       "      <td>Automotive</td>\n",
       "      <td>United States</td>\n",
       "      <td>True</td>\n",
       "      <td>M</td>\n",
       "      <td>Texas</td>\n",
       "      <td>South</td>\n",
       "      <td>117.24</td>\n",
       "      <td>7.5</td>\n",
       "      <td>2.142770e+13</td>\n",
       "      <td>88.2</td>\n",
       "      <td>101.8</td>\n",
       "      <td>78.5</td>\n",
       "      <td>36.6</td>\n",
       "      <td>328239523.0</td>\n",
       "      <td>37.090240</td>\n",
       "      <td>-95.712891</td>\n",
       "      <td>73</td>\n",
       "      <td>754.0</td>\n",
       "      <td>&gt;=50B</td>\n",
       "      <td>middle-aged</td>\n",
       "    </tr>\n",
       "    <tr>\n",
       "      <th>2</th>\n",
       "      <td>3</td>\n",
       "      <td>114000</td>\n",
       "      <td>Jeff Bezos</td>\n",
       "      <td>59.0</td>\n",
       "      <td>United States</td>\n",
       "      <td>Medina</td>\n",
       "      <td>Technology</td>\n",
       "      <td>United States</td>\n",
       "      <td>True</td>\n",
       "      <td>M</td>\n",
       "      <td>Washington</td>\n",
       "      <td>West</td>\n",
       "      <td>117.24</td>\n",
       "      <td>7.5</td>\n",
       "      <td>2.142770e+13</td>\n",
       "      <td>88.2</td>\n",
       "      <td>101.8</td>\n",
       "      <td>78.5</td>\n",
       "      <td>36.6</td>\n",
       "      <td>328239523.0</td>\n",
       "      <td>37.090240</td>\n",
       "      <td>-95.712891</td>\n",
       "      <td>314</td>\n",
       "      <td>754.0</td>\n",
       "      <td>&gt;=50B</td>\n",
       "      <td>middle-aged</td>\n",
       "    </tr>\n",
       "    <tr>\n",
       "      <th>3</th>\n",
       "      <td>4</td>\n",
       "      <td>107000</td>\n",
       "      <td>Larry Ellison</td>\n",
       "      <td>78.0</td>\n",
       "      <td>United States</td>\n",
       "      <td>Lanai</td>\n",
       "      <td>Technology</td>\n",
       "      <td>United States</td>\n",
       "      <td>True</td>\n",
       "      <td>M</td>\n",
       "      <td>Hawaii</td>\n",
       "      <td>West</td>\n",
       "      <td>117.24</td>\n",
       "      <td>7.5</td>\n",
       "      <td>2.142770e+13</td>\n",
       "      <td>88.2</td>\n",
       "      <td>101.8</td>\n",
       "      <td>78.5</td>\n",
       "      <td>36.6</td>\n",
       "      <td>328239523.0</td>\n",
       "      <td>37.090240</td>\n",
       "      <td>-95.712891</td>\n",
       "      <td>314</td>\n",
       "      <td>754.0</td>\n",
       "      <td>&gt;=50B</td>\n",
       "      <td>old</td>\n",
       "    </tr>\n",
       "    <tr>\n",
       "      <th>4</th>\n",
       "      <td>5</td>\n",
       "      <td>106000</td>\n",
       "      <td>Warren Buffett</td>\n",
       "      <td>92.0</td>\n",
       "      <td>United States</td>\n",
       "      <td>Omaha</td>\n",
       "      <td>Finance &amp; Investments</td>\n",
       "      <td>United States</td>\n",
       "      <td>True</td>\n",
       "      <td>M</td>\n",
       "      <td>Nebraska</td>\n",
       "      <td>Midwest</td>\n",
       "      <td>117.24</td>\n",
       "      <td>7.5</td>\n",
       "      <td>2.142770e+13</td>\n",
       "      <td>88.2</td>\n",
       "      <td>101.8</td>\n",
       "      <td>78.5</td>\n",
       "      <td>36.6</td>\n",
       "      <td>328239523.0</td>\n",
       "      <td>37.090240</td>\n",
       "      <td>-95.712891</td>\n",
       "      <td>372</td>\n",
       "      <td>754.0</td>\n",
       "      <td>&gt;=50B</td>\n",
       "      <td>very old</td>\n",
       "    </tr>\n",
       "  </tbody>\n",
       "</table>\n",
       "</div>"
      ],
      "text/plain": [
       "   rank  final_worth                      name   age        country    city  \\\n",
       "0     1       211000  Bernard Arnault & family  74.0         France   Paris   \n",
       "1     2       180000                 Elon Musk  51.0  United States  Austin   \n",
       "2     3       114000                Jeff Bezos  59.0  United States  Medina   \n",
       "3     4       107000             Larry Ellison  78.0  United States   Lanai   \n",
       "4     5       106000            Warren Buffett  92.0  United States   Omaha   \n",
       "\n",
       "              industries citizenship_country  self_made gender       state  \\\n",
       "0       Fashion & Retail              France      False      M         NaN   \n",
       "1             Automotive       United States       True      M       Texas   \n",
       "2             Technology       United States       True      M  Washington   \n",
       "3             Technology       United States       True      M      Hawaii   \n",
       "4  Finance & Investments       United States       True      M    Nebraska   \n",
       "\n",
       "  state_region  cpi_country  cpi_change_country   gdp_country  \\\n",
       "0          NaN       110.05                 1.1  2.715518e+12   \n",
       "1        South       117.24                 7.5  2.142770e+13   \n",
       "2         West       117.24                 7.5  2.142770e+13   \n",
       "3         West       117.24                 7.5  2.142770e+13   \n",
       "4      Midwest       117.24                 7.5  2.142770e+13   \n",
       "\n",
       "   tertiary_ed_enroll  primary_ed_enroll  life_expectancy_country  \\\n",
       "0                65.6              102.5                     82.5   \n",
       "1                88.2              101.8                     78.5   \n",
       "2                88.2              101.8                     78.5   \n",
       "3                88.2              101.8                     78.5   \n",
       "4                88.2              101.8                     78.5   \n",
       "\n",
       "   total_tax_rate_country  population_country  latitude_country  \\\n",
       "0                    60.7          67059887.0         46.227638   \n",
       "1                    36.6         328239523.0         37.090240   \n",
       "2                    36.6         328239523.0         37.090240   \n",
       "3                    36.6         328239523.0         37.090240   \n",
       "4                    36.6         328239523.0         37.090240   \n",
       "\n",
       "   longitude_country  industries_total  country_total wealth_category  \\\n",
       "0           2.213749               266           35.0           >=50B   \n",
       "1         -95.712891                73          754.0           >=50B   \n",
       "2         -95.712891               314          754.0           >=50B   \n",
       "3         -95.712891               314          754.0           >=50B   \n",
       "4         -95.712891               372          754.0           >=50B   \n",
       "\n",
       "  age_category  \n",
       "0          old  \n",
       "1  middle-aged  \n",
       "2  middle-aged  \n",
       "3          old  \n",
       "4     very old  "
      ]
     },
     "execution_count": 10,
     "metadata": {},
     "output_type": "execute_result"
    }
   ],
   "source": [
    "df.head()"
   ]
  },
  {
   "cell_type": "markdown",
   "id": "2baa6507",
   "metadata": {},
   "source": [
    "## 2. Scatterplot explorations\n",
    "\n",
    "### In a previous notebook, \"Independent Explorations 1,\" I explored different variables against eachother using scatterplots to look for possible correlations. The most promising of these was plotting \"gdp_country\" vs. \"country_total.\" (\"Country_total\" is the total number of billionaires in each country.) I will use these two variables for the rest of this exploration."
   ]
  },
  {
   "cell_type": "code",
   "execution_count": 11,
   "id": "4dd90a78",
   "metadata": {},
   "outputs": [
    {
     "data": {
      "text/plain": [
       "<seaborn.axisgrid.FacetGrid at 0x1fdb2616bd0>"
      ]
     },
     "execution_count": 11,
     "metadata": {},
     "output_type": "execute_result"
    },
    {
     "data": {
      "image/png": "[encoded data removed]",
      "text/plain": [
       "<Figure size 500x500 with 1 Axes>"
      ]
     },
     "metadata": {},
     "output_type": "display_data"
    }
   ],
   "source": [
    "# Seaborn scatterplot for each country's gdp vs. the total number of billionaires in each country\n",
    "\n",
    "sns.lmplot(x = 'gdp_country', y = 'country_total', data = df)"
   ]
  },
  {
   "cell_type": "markdown",
   "id": "434c9ae5",
   "metadata": {},
   "source": [
    "### *Extreme values check*"
   ]
  },
  {
   "cell_type": "code",
   "execution_count": 22,
   "id": "8af6604f",
   "metadata": {},
   "outputs": [
    {
     "data": {
      "text/plain": [
       "<seaborn.axisgrid.FacetGrid at 0x1fdb46798d0>"
      ]
     },
     "execution_count": 22,
     "metadata": {},
     "output_type": "execute_result"
    },
    {
     "data": {
      "image/png": "[encoded data removed]",
      "text/plain": [
       "<Figure size 500x500 with 1 Axes>"
      ]
     },
     "metadata": {},
     "output_type": "display_data"
    }
   ],
   "source": [
    "sns.displot(df['gdp_country'], bins=25)"
   ]
  },
  {
   "cell_type": "code",
   "execution_count": 24,
   "id": "992f27de",
   "metadata": {},
   "outputs": [
    {
     "data": {
      "text/plain": [
       "<seaborn.axisgrid.FacetGrid at 0x1fdb4656e90>"
      ]
     },
     "execution_count": 24,
     "metadata": {},
     "output_type": "execute_result"
    },
    {
     "data": {
      "image/png": "[encoded data removed]",
      "text/plain": [
       "<Figure size 500x500 with 1 Axes>"
      ]
     },
     "metadata": {},
     "output_type": "display_data"
    }
   ],
   "source": [
    "sns.displot(df['country_total'], bins=25)"
   ]
  },
  {
   "cell_type": "markdown",
   "id": "205418b6",
   "metadata": {},
   "source": [
    "### There do appear to be two outliers in both GDP and number of billionaires. There are two countries whose gdp is above 10 trillion (and these 2 have the most billionaires). Most are below 6 trillion. I'm going to compare numbers of billionaires in those two groups."
   ]
  },
  {
   "cell_type": "code",
   "execution_count": 25,
   "id": "b10feb1d",
   "metadata": {},
   "outputs": [],
   "source": [
    "# Create subsets\n",
    "\n",
    "gdp_large = df[df['gdp_country'] > 10_000_000_000_000]"
   ]
  },
  {
   "cell_type": "code",
   "execution_count": 26,
   "id": "94c51339",
   "metadata": {},
   "outputs": [],
   "source": [
    "gdp_small = df[df['gdp_country'] <=10_000_000_000_000]"
   ]
  },
  {
   "cell_type": "code",
   "execution_count": 27,
   "id": "1c6c788c",
   "metadata": {},
   "outputs": [
    {
     "data": {
      "text/plain": [
       "array(['United States', 'China'], dtype=object)"
      ]
     },
     "execution_count": 27,
     "metadata": {},
     "output_type": "execute_result"
    }
   ],
   "source": [
    "gdp_large['country'].unique()"
   ]
  },
  {
   "cell_type": "code",
   "execution_count": 28,
   "id": "2e148372",
   "metadata": {},
   "outputs": [
    {
     "data": {
      "text/plain": [
       "array(['France', 'Mexico', 'India', 'Spain', 'Canada', 'Germany',\n",
       "       'Switzerland', 'Belgium', 'Austria', 'Japan', 'United Kingdom',\n",
       "       'Australia', 'Indonesia', 'United Arab Emirates', 'Russia',\n",
       "       'Chile', 'Monaco', 'Czech Republic', 'Sweden', 'Thailand',\n",
       "       'Uzbekistan', 'Singapore', 'Nigeria', 'Israel', 'Italy',\n",
       "       'South Africa', 'Brazil', 'Malaysia', 'South Korea', 'New Zealand',\n",
       "       'Philippines', 'Norway', 'Egypt', 'Denmark', 'Colombia',\n",
       "       'Netherlands', 'Poland', 'Ukraine', 'Greece', 'Turkey',\n",
       "       'Argentina', 'Georgia', 'Portugal', 'Kazakhstan', 'Algeria',\n",
       "       'Vietnam', 'Latvia', 'Finland', 'Luxembourg', 'Cambodia',\n",
       "       'Lebanon', 'Oman', 'Cyprus', 'Liechtenstein', 'Romania', 'Qatar',\n",
       "       'Uruguay', 'Nepal', 'Slovakia', 'Morocco', 'Hungary', 'Tanzania',\n",
       "       'Bahrain', 'Peru', 'Andorra', 'Armenia'], dtype=object)"
      ]
     },
     "execution_count": 28,
     "metadata": {},
     "output_type": "execute_result"
    }
   ],
   "source": [
    "gdp_small['country'].unique()"
   ]
  },
  {
   "cell_type": "code",
   "execution_count": 29,
   "id": "bc0dc9ca",
   "metadata": {},
   "outputs": [
    {
     "name": "stdout",
     "output_type": "stream",
     "text": [
      "<class 'pandas.core.frame.DataFrame'>\n",
      "Index: 1199 entries, 0 to 2639\n",
      "Data columns (total 26 columns):\n",
      " #   Column                   Non-Null Count  Dtype  \n",
      "---  ------                   --------------  -----  \n",
      " 0   rank                     1199 non-null   int64  \n",
      " 1   final_worth              1199 non-null   int64  \n",
      " 2   name                     1199 non-null   object \n",
      " 3   age                      1169 non-null   float64\n",
      " 4   country                  1199 non-null   object \n",
      " 5   city                     1174 non-null   object \n",
      " 6   industries               1199 non-null   object \n",
      " 7   citizenship_country      1199 non-null   object \n",
      " 8   self_made                1199 non-null   bool   \n",
      " 9   gender                   1199 non-null   object \n",
      " 10  state                    0 non-null      object \n",
      " 11  state_region             0 non-null      object \n",
      " 12  cpi_country              1179 non-null   float64\n",
      " 13  cpi_change_country       1179 non-null   float64\n",
      " 14  gdp_country              1199 non-null   float64\n",
      " 15  tertiary_ed_enroll       1181 non-null   float64\n",
      " 16  primary_ed_enroll        1182 non-null   float64\n",
      " 17  life_expectancy_country  1181 non-null   float64\n",
      " 18  total_tax_rate_country   1181 non-null   float64\n",
      " 19  population_country       1199 non-null   float64\n",
      " 20  latitude_country         1199 non-null   float64\n",
      " 21  longitude_country        1199 non-null   float64\n",
      " 22  industries_total         1199 non-null   int64  \n",
      " 23  country_total            1199 non-null   float64\n",
      " 24  wealth_category          1199 non-null   object \n",
      " 25  age_category             1199 non-null   object \n",
      "dtypes: bool(1), float64(12), int64(3), object(10)\n",
      "memory usage: 244.7+ KB\n"
     ]
    }
   ],
   "source": [
    "gdp_small.info()"
   ]
  },
  {
   "cell_type": "markdown",
   "id": "f4eb4f74",
   "metadata": {},
   "source": [
    "### There are 1199 billionaires in countries with a small GDP"
   ]
  },
  {
   "cell_type": "code",
   "execution_count": 30,
   "id": "8213e55f",
   "metadata": {},
   "outputs": [
    {
     "name": "stdout",
     "output_type": "stream",
     "text": [
      "<class 'pandas.core.frame.DataFrame'>\n",
      "Index: 1277 entries, 1 to 2638\n",
      "Data columns (total 26 columns):\n",
      " #   Column                   Non-Null Count  Dtype  \n",
      "---  ------                   --------------  -----  \n",
      " 0   rank                     1277 non-null   int64  \n",
      " 1   final_worth              1277 non-null   int64  \n",
      " 2   name                     1277 non-null   object \n",
      " 3   age                      1258 non-null   float64\n",
      " 4   country                  1277 non-null   object \n",
      " 5   city                     1273 non-null   object \n",
      " 6   industries               1277 non-null   object \n",
      " 7   citizenship_country      1277 non-null   object \n",
      " 8   self_made                1277 non-null   bool   \n",
      " 9   gender                   1277 non-null   object \n",
      " 10  state                    753 non-null    object \n",
      " 11  state_region             747 non-null    object \n",
      " 12  cpi_country              1277 non-null   float64\n",
      " 13  cpi_change_country       1277 non-null   float64\n",
      " 14  gdp_country              1277 non-null   float64\n",
      " 15  tertiary_ed_enroll       1277 non-null   float64\n",
      " 16  primary_ed_enroll        1277 non-null   float64\n",
      " 17  life_expectancy_country  1277 non-null   float64\n",
      " 18  total_tax_rate_country   1277 non-null   float64\n",
      " 19  population_country       1277 non-null   float64\n",
      " 20  latitude_country         1277 non-null   float64\n",
      " 21  longitude_country        1277 non-null   float64\n",
      " 22  industries_total         1277 non-null   int64  \n",
      " 23  country_total            1277 non-null   float64\n",
      " 24  wealth_category          1277 non-null   object \n",
      " 25  age_category             1277 non-null   object \n",
      "dtypes: bool(1), float64(12), int64(3), object(10)\n",
      "memory usage: 260.6+ KB\n"
     ]
    }
   ],
   "source": [
    "gdp_large.info()"
   ]
  },
  {
   "cell_type": "markdown",
   "id": "baf6f75c",
   "metadata": {},
   "source": [
    "### There are 1277 billionaires in countries with a large GDP"
   ]
  },
  {
   "cell_type": "code",
   "execution_count": 31,
   "id": "20505a81",
   "metadata": {},
   "outputs": [
    {
     "name": "stdout",
     "output_type": "stream",
     "text": [
      "<class 'pandas.core.series.Series'>\n",
      "RangeIndex: 2640 entries, 0 to 2639\n",
      "Series name: gdp_country\n",
      "Non-Null Count  Dtype  \n",
      "--------------  -----  \n",
      "2476 non-null   float64\n",
      "dtypes: float64(1)\n",
      "memory usage: 20.8 KB\n"
     ]
    }
   ],
   "source": [
    "df['gdp_country'].info()"
   ]
  },
  {
   "cell_type": "markdown",
   "id": "a7225f31",
   "metadata": {},
   "source": [
    "### There are 2476 non-null records for 'gdp_country'. This the same total as records for the 'gdp_small' and 'gdp_large' data frames combined. \n",
    "\n",
    "### There are more billionaires in the two countries with the largest GDP (US and China) than there are in all other countries combined."
   ]
  },
  {
   "cell_type": "markdown",
   "id": "52f6763d",
   "metadata": {},
   "source": [
    "# Hypothesis: As a country's gross domestic product increases, so does its number of billionaires."
   ]
  },
  {
   "cell_type": "markdown",
   "id": "934d19e4",
   "metadata": {},
   "source": [
    "## 3. Split the data into two sets: a training set and a test set"
   ]
  },
  {
   "cell_type": "code",
   "execution_count": 32,
   "id": "cff13a94",
   "metadata": {},
   "outputs": [],
   "source": [
    "# Reshape the variables into NumPy arrays and put them into separate objects.\n",
    "\n",
    "X = df['gdp_country'].values.reshape(-1,1)\n",
    "y = df['country_total'].values.reshape(-1,1)"
   ]
  },
  {
   "cell_type": "code",
   "execution_count": 33,
   "id": "37d9cff3",
   "metadata": {},
   "outputs": [
    {
     "data": {
      "text/plain": [
       "array([[2.71551827e+12],\n",
       "       [2.14277000e+13],\n",
       "       [2.14277000e+13],\n",
       "       ...,\n",
       "       [1.99100000e+13],\n",
       "       [1.99100000e+13],\n",
       "       [3.76795509e+11]])"
      ]
     },
     "execution_count": 33,
     "metadata": {},
     "output_type": "execute_result"
    }
   ],
   "source": [
    "X"
   ]
  },
  {
   "cell_type": "code",
   "execution_count": 34,
   "id": "5a47c9e4",
   "metadata": {},
   "outputs": [
    {
     "data": {
      "text/plain": [
       "array([[ 35.],\n",
       "       [754.],\n",
       "       [754.],\n",
       "       ...,\n",
       "       [523.],\n",
       "       [523.],\n",
       "       [ 14.]])"
      ]
     },
     "execution_count": 34,
     "metadata": {},
     "output_type": "execute_result"
    }
   ],
   "source": [
    "y"
   ]
  },
  {
   "cell_type": "code",
   "execution_count": 35,
   "id": "51cd9c20",
   "metadata": {},
   "outputs": [],
   "source": [
    "# Split data into a training set and a test set\n",
    "\n",
    "X_train, X_test, y_train, y_test = train_test_split(X, y, test_size=0.3, random_state=0)"
   ]
  },
  {
   "cell_type": "markdown",
   "id": "f9ab2507",
   "metadata": {},
   "source": [
    "## 4. Run linear regression"
   ]
  },
  {
   "cell_type": "code",
   "execution_count": 36,
   "id": "7808a3da",
   "metadata": {},
   "outputs": [],
   "source": [
    "# Create a regression object\n",
    "\n",
    "regression = LinearRegression()"
   ]
  },
  {
   "cell_type": "code",
   "execution_count": 38,
   "id": "6a00be38",
   "metadata": {},
   "outputs": [
    {
     "ename": "ValueError",
     "evalue": "Input X contains NaN.\nLinearRegression does not accept missing values encoded as NaN natively. For supervised learning, you might want to consider sklearn.ensemble.HistGradientBoostingClassifier and Regressor which accept missing values encoded as NaNs natively. Alternatively, it is possible to preprocess the data, for instance by using an imputer transformer in a pipeline or drop samples with missing values. See https://scikit-learn.org/stable/modules/impute.html You can find a list of all estimators that handle NaN values at the following page: https://scikit-learn.org/stable/modules/impute.html#estimators-that-handle-nan-values",
     "output_type": "error",
     "traceback": [
      "\u001b[1;31m---------------------------------------------------------------------------\u001b[0m",
      "\u001b[1;31mValueError\u001b[0m                                Traceback (most recent call last)",
      "Cell \u001b[1;32mIn[38], line 3\u001b[0m\n\u001b[0;32m      1\u001b[0m \u001b[38;5;66;03m# Fit the regression object onto the training set\u001b[39;00m\n\u001b[1;32m----> 3\u001b[0m regression\u001b[38;5;241m.\u001b[39mfit(X_train, y_train)\n",
      "File \u001b[1;32m~\\anaconda3\\Lib\\site-packages\\sklearn\\base.py:1151\u001b[0m, in \u001b[0;36m_fit_context.<locals>.decorator.<locals>.wrapper\u001b[1;34m(estimator, *args, **kwargs)\u001b[0m\n\u001b[0;32m   1144\u001b[0m     estimator\u001b[38;5;241m.\u001b[39m_validate_params()\n\u001b[0;32m   1146\u001b[0m \u001b[38;5;28;01mwith\u001b[39;00m config_context(\n\u001b[0;32m   1147\u001b[0m     skip_parameter_validation\u001b[38;5;241m=\u001b[39m(\n\u001b[0;32m   1148\u001b[0m         prefer_skip_nested_validation \u001b[38;5;129;01mor\u001b[39;00m global_skip_validation\n\u001b[0;32m   1149\u001b[0m     )\n\u001b[0;32m   1150\u001b[0m ):\n\u001b[1;32m-> 1151\u001b[0m     \u001b[38;5;28;01mreturn\u001b[39;00m fit_method(estimator, \u001b[38;5;241m*\u001b[39margs, \u001b[38;5;241m*\u001b[39m\u001b[38;5;241m*\u001b[39mkwargs)\n",
      "File \u001b[1;32m~\\anaconda3\\Lib\\site-packages\\sklearn\\linear_model\\_base.py:678\u001b[0m, in \u001b[0;36mLinearRegression.fit\u001b[1;34m(self, X, y, sample_weight)\u001b[0m\n\u001b[0;32m    674\u001b[0m n_jobs_ \u001b[38;5;241m=\u001b[39m \u001b[38;5;28mself\u001b[39m\u001b[38;5;241m.\u001b[39mn_jobs\n\u001b[0;32m    676\u001b[0m accept_sparse \u001b[38;5;241m=\u001b[39m \u001b[38;5;28;01mFalse\u001b[39;00m \u001b[38;5;28;01mif\u001b[39;00m \u001b[38;5;28mself\u001b[39m\u001b[38;5;241m.\u001b[39mpositive \u001b[38;5;28;01melse\u001b[39;00m [\u001b[38;5;124m\"\u001b[39m\u001b[38;5;124mcsr\u001b[39m\u001b[38;5;124m\"\u001b[39m, \u001b[38;5;124m\"\u001b[39m\u001b[38;5;124mcsc\u001b[39m\u001b[38;5;124m\"\u001b[39m, \u001b[38;5;124m\"\u001b[39m\u001b[38;5;124mcoo\u001b[39m\u001b[38;5;124m\"\u001b[39m]\n\u001b[1;32m--> 678\u001b[0m X, y \u001b[38;5;241m=\u001b[39m \u001b[38;5;28mself\u001b[39m\u001b[38;5;241m.\u001b[39m_validate_data(\n\u001b[0;32m    679\u001b[0m     X, y, accept_sparse\u001b[38;5;241m=\u001b[39maccept_sparse, y_numeric\u001b[38;5;241m=\u001b[39m\u001b[38;5;28;01mTrue\u001b[39;00m, multi_output\u001b[38;5;241m=\u001b[39m\u001b[38;5;28;01mTrue\u001b[39;00m\n\u001b[0;32m    680\u001b[0m )\n\u001b[0;32m    682\u001b[0m has_sw \u001b[38;5;241m=\u001b[39m sample_weight \u001b[38;5;129;01mis\u001b[39;00m \u001b[38;5;129;01mnot\u001b[39;00m \u001b[38;5;28;01mNone\u001b[39;00m\n\u001b[0;32m    683\u001b[0m \u001b[38;5;28;01mif\u001b[39;00m has_sw:\n",
      "File \u001b[1;32m~\\anaconda3\\Lib\\site-packages\\sklearn\\base.py:621\u001b[0m, in \u001b[0;36mBaseEstimator._validate_data\u001b[1;34m(self, X, y, reset, validate_separately, cast_to_ndarray, **check_params)\u001b[0m\n\u001b[0;32m    619\u001b[0m         y \u001b[38;5;241m=\u001b[39m check_array(y, input_name\u001b[38;5;241m=\u001b[39m\u001b[38;5;124m\"\u001b[39m\u001b[38;5;124my\u001b[39m\u001b[38;5;124m\"\u001b[39m, \u001b[38;5;241m*\u001b[39m\u001b[38;5;241m*\u001b[39mcheck_y_params)\n\u001b[0;32m    620\u001b[0m     \u001b[38;5;28;01melse\u001b[39;00m:\n\u001b[1;32m--> 621\u001b[0m         X, y \u001b[38;5;241m=\u001b[39m check_X_y(X, y, \u001b[38;5;241m*\u001b[39m\u001b[38;5;241m*\u001b[39mcheck_params)\n\u001b[0;32m    622\u001b[0m     out \u001b[38;5;241m=\u001b[39m X, y\n\u001b[0;32m    624\u001b[0m \u001b[38;5;28;01mif\u001b[39;00m \u001b[38;5;129;01mnot\u001b[39;00m no_val_X \u001b[38;5;129;01mand\u001b[39;00m check_params\u001b[38;5;241m.\u001b[39mget(\u001b[38;5;124m\"\u001b[39m\u001b[38;5;124mensure_2d\u001b[39m\u001b[38;5;124m\"\u001b[39m, \u001b[38;5;28;01mTrue\u001b[39;00m):\n",
      "File \u001b[1;32m~\\anaconda3\\Lib\\site-packages\\sklearn\\utils\\validation.py:1147\u001b[0m, in \u001b[0;36mcheck_X_y\u001b[1;34m(X, y, accept_sparse, accept_large_sparse, dtype, order, copy, force_all_finite, ensure_2d, allow_nd, multi_output, ensure_min_samples, ensure_min_features, y_numeric, estimator)\u001b[0m\n\u001b[0;32m   1142\u001b[0m         estimator_name \u001b[38;5;241m=\u001b[39m _check_estimator_name(estimator)\n\u001b[0;32m   1143\u001b[0m     \u001b[38;5;28;01mraise\u001b[39;00m \u001b[38;5;167;01mValueError\u001b[39;00m(\n\u001b[0;32m   1144\u001b[0m         \u001b[38;5;124mf\u001b[39m\u001b[38;5;124m\"\u001b[39m\u001b[38;5;132;01m{\u001b[39;00mestimator_name\u001b[38;5;132;01m}\u001b[39;00m\u001b[38;5;124m requires y to be passed, but the target y is None\u001b[39m\u001b[38;5;124m\"\u001b[39m\n\u001b[0;32m   1145\u001b[0m     )\n\u001b[1;32m-> 1147\u001b[0m X \u001b[38;5;241m=\u001b[39m check_array(\n\u001b[0;32m   1148\u001b[0m     X,\n\u001b[0;32m   1149\u001b[0m     accept_sparse\u001b[38;5;241m=\u001b[39maccept_sparse,\n\u001b[0;32m   1150\u001b[0m     accept_large_sparse\u001b[38;5;241m=\u001b[39maccept_large_sparse,\n\u001b[0;32m   1151\u001b[0m     dtype\u001b[38;5;241m=\u001b[39mdtype,\n\u001b[0;32m   1152\u001b[0m     order\u001b[38;5;241m=\u001b[39morder,\n\u001b[0;32m   1153\u001b[0m     copy\u001b[38;5;241m=\u001b[39mcopy,\n\u001b[0;32m   1154\u001b[0m     force_all_finite\u001b[38;5;241m=\u001b[39mforce_all_finite,\n\u001b[0;32m   1155\u001b[0m     ensure_2d\u001b[38;5;241m=\u001b[39mensure_2d,\n\u001b[0;32m   1156\u001b[0m     allow_nd\u001b[38;5;241m=\u001b[39mallow_nd,\n\u001b[0;32m   1157\u001b[0m     ensure_min_samples\u001b[38;5;241m=\u001b[39mensure_min_samples,\n\u001b[0;32m   1158\u001b[0m     ensure_min_features\u001b[38;5;241m=\u001b[39mensure_min_features,\n\u001b[0;32m   1159\u001b[0m     estimator\u001b[38;5;241m=\u001b[39mestimator,\n\u001b[0;32m   1160\u001b[0m     input_name\u001b[38;5;241m=\u001b[39m\u001b[38;5;124m\"\u001b[39m\u001b[38;5;124mX\u001b[39m\u001b[38;5;124m\"\u001b[39m,\n\u001b[0;32m   1161\u001b[0m )\n\u001b[0;32m   1163\u001b[0m y \u001b[38;5;241m=\u001b[39m _check_y(y, multi_output\u001b[38;5;241m=\u001b[39mmulti_output, y_numeric\u001b[38;5;241m=\u001b[39my_numeric, estimator\u001b[38;5;241m=\u001b[39mestimator)\n\u001b[0;32m   1165\u001b[0m check_consistent_length(X, y)\n",
      "File \u001b[1;32m~\\anaconda3\\Lib\\site-packages\\sklearn\\utils\\validation.py:959\u001b[0m, in \u001b[0;36mcheck_array\u001b[1;34m(array, accept_sparse, accept_large_sparse, dtype, order, copy, force_all_finite, ensure_2d, allow_nd, ensure_min_samples, ensure_min_features, estimator, input_name)\u001b[0m\n\u001b[0;32m    953\u001b[0m         \u001b[38;5;28;01mraise\u001b[39;00m \u001b[38;5;167;01mValueError\u001b[39;00m(\n\u001b[0;32m    954\u001b[0m             \u001b[38;5;124m\"\u001b[39m\u001b[38;5;124mFound array with dim \u001b[39m\u001b[38;5;132;01m%d\u001b[39;00m\u001b[38;5;124m. \u001b[39m\u001b[38;5;132;01m%s\u001b[39;00m\u001b[38;5;124m expected <= 2.\u001b[39m\u001b[38;5;124m\"\u001b[39m\n\u001b[0;32m    955\u001b[0m             \u001b[38;5;241m%\u001b[39m (array\u001b[38;5;241m.\u001b[39mndim, estimator_name)\n\u001b[0;32m    956\u001b[0m         )\n\u001b[0;32m    958\u001b[0m     \u001b[38;5;28;01mif\u001b[39;00m force_all_finite:\n\u001b[1;32m--> 959\u001b[0m         _assert_all_finite(\n\u001b[0;32m    960\u001b[0m             array,\n\u001b[0;32m    961\u001b[0m             input_name\u001b[38;5;241m=\u001b[39minput_name,\n\u001b[0;32m    962\u001b[0m             estimator_name\u001b[38;5;241m=\u001b[39mestimator_name,\n\u001b[0;32m    963\u001b[0m             allow_nan\u001b[38;5;241m=\u001b[39mforce_all_finite \u001b[38;5;241m==\u001b[39m \u001b[38;5;124m\"\u001b[39m\u001b[38;5;124mallow-nan\u001b[39m\u001b[38;5;124m\"\u001b[39m,\n\u001b[0;32m    964\u001b[0m         )\n\u001b[0;32m    966\u001b[0m \u001b[38;5;28;01mif\u001b[39;00m ensure_min_samples \u001b[38;5;241m>\u001b[39m \u001b[38;5;241m0\u001b[39m:\n\u001b[0;32m    967\u001b[0m     n_samples \u001b[38;5;241m=\u001b[39m _num_samples(array)\n",
      "File \u001b[1;32m~\\anaconda3\\Lib\\site-packages\\sklearn\\utils\\validation.py:124\u001b[0m, in \u001b[0;36m_assert_all_finite\u001b[1;34m(X, allow_nan, msg_dtype, estimator_name, input_name)\u001b[0m\n\u001b[0;32m    121\u001b[0m \u001b[38;5;28;01mif\u001b[39;00m first_pass_isfinite:\n\u001b[0;32m    122\u001b[0m     \u001b[38;5;28;01mreturn\u001b[39;00m\n\u001b[1;32m--> 124\u001b[0m _assert_all_finite_element_wise(\n\u001b[0;32m    125\u001b[0m     X,\n\u001b[0;32m    126\u001b[0m     xp\u001b[38;5;241m=\u001b[39mxp,\n\u001b[0;32m    127\u001b[0m     allow_nan\u001b[38;5;241m=\u001b[39mallow_nan,\n\u001b[0;32m    128\u001b[0m     msg_dtype\u001b[38;5;241m=\u001b[39mmsg_dtype,\n\u001b[0;32m    129\u001b[0m     estimator_name\u001b[38;5;241m=\u001b[39mestimator_name,\n\u001b[0;32m    130\u001b[0m     input_name\u001b[38;5;241m=\u001b[39minput_name,\n\u001b[0;32m    131\u001b[0m )\n",
      "File \u001b[1;32m~\\anaconda3\\Lib\\site-packages\\sklearn\\utils\\validation.py:173\u001b[0m, in \u001b[0;36m_assert_all_finite_element_wise\u001b[1;34m(X, xp, allow_nan, msg_dtype, estimator_name, input_name)\u001b[0m\n\u001b[0;32m    156\u001b[0m \u001b[38;5;28;01mif\u001b[39;00m estimator_name \u001b[38;5;129;01mand\u001b[39;00m input_name \u001b[38;5;241m==\u001b[39m \u001b[38;5;124m\"\u001b[39m\u001b[38;5;124mX\u001b[39m\u001b[38;5;124m\"\u001b[39m \u001b[38;5;129;01mand\u001b[39;00m has_nan_error:\n\u001b[0;32m    157\u001b[0m     \u001b[38;5;66;03m# Improve the error message on how to handle missing values in\u001b[39;00m\n\u001b[0;32m    158\u001b[0m     \u001b[38;5;66;03m# scikit-learn.\u001b[39;00m\n\u001b[0;32m    159\u001b[0m     msg_err \u001b[38;5;241m+\u001b[39m\u001b[38;5;241m=\u001b[39m (\n\u001b[0;32m    160\u001b[0m         \u001b[38;5;124mf\u001b[39m\u001b[38;5;124m\"\u001b[39m\u001b[38;5;130;01m\\n\u001b[39;00m\u001b[38;5;132;01m{\u001b[39;00mestimator_name\u001b[38;5;132;01m}\u001b[39;00m\u001b[38;5;124m does not accept missing values\u001b[39m\u001b[38;5;124m\"\u001b[39m\n\u001b[0;32m    161\u001b[0m         \u001b[38;5;124m\"\u001b[39m\u001b[38;5;124m encoded as NaN natively. For supervised learning, you might want\u001b[39m\u001b[38;5;124m\"\u001b[39m\n\u001b[1;32m   (...)\u001b[0m\n\u001b[0;32m    171\u001b[0m         \u001b[38;5;124m\"\u001b[39m\u001b[38;5;124m#estimators-that-handle-nan-values\u001b[39m\u001b[38;5;124m\"\u001b[39m\n\u001b[0;32m    172\u001b[0m     )\n\u001b[1;32m--> 173\u001b[0m \u001b[38;5;28;01mraise\u001b[39;00m \u001b[38;5;167;01mValueError\u001b[39;00m(msg_err)\n",
      "\u001b[1;31mValueError\u001b[0m: Input X contains NaN.\nLinearRegression does not accept missing values encoded as NaN natively. For supervised learning, you might want to consider sklearn.ensemble.HistGradientBoostingClassifier and Regressor which accept missing values encoded as NaNs natively. Alternatively, it is possible to preprocess the data, for instance by using an imputer transformer in a pipeline or drop samples with missing values. See https://scikit-learn.org/stable/modules/impute.html You can find a list of all estimators that handle NaN values at the following page: https://scikit-learn.org/stable/modules/impute.html#estimators-that-handle-nan-values"
     ]
    }
   ],
   "source": [
    "# Fit the regression object onto the training set\n",
    "\n",
    "regression.fit(X_train, y_train)"
   ]
  },
  {
   "cell_type": "markdown",
   "id": "c9ecb2dc",
   "metadata": {},
   "source": [
    "### It appears as though the linear regression model cannot contain any NaN values. I will further clean the data set of Nan values in the 'gdp_country' column for the sake of this regression."
   ]
  },
  {
   "cell_type": "code",
   "execution_count": 42,
   "id": "788cfd7f",
   "metadata": {},
   "outputs": [
    {
     "data": {
      "text/plain": [
       "164"
      ]
     },
     "execution_count": 42,
     "metadata": {},
     "output_type": "execute_result"
    }
   ],
   "source": [
    "df['gdp_country'].isnull().sum()"
   ]
  },
  {
   "cell_type": "code",
   "execution_count": 43,
   "id": "0474ccc1",
   "metadata": {},
   "outputs": [],
   "source": [
    "# Create a new dataframe with the records dropped that have NaN in 'gdp_country'\n",
    "\n",
    "df_gdp = df.dropna(subset=['gdp_country'])"
   ]
  },
  {
   "cell_type": "code",
   "execution_count": 44,
   "id": "41e5db65",
   "metadata": {},
   "outputs": [
    {
     "data": {
      "text/plain": [
       "0"
      ]
     },
     "execution_count": 44,
     "metadata": {},
     "output_type": "execute_result"
    }
   ],
   "source": [
    "df_gdp['gdp_country'].isnull().sum()"
   ]
  },
  {
   "cell_type": "code",
   "execution_count": 45,
   "id": "5aeca44e",
   "metadata": {},
   "outputs": [
    {
     "name": "stdout",
     "output_type": "stream",
     "text": [
      "<class 'pandas.core.frame.DataFrame'>\n",
      "Index: 2476 entries, 0 to 2639\n",
      "Data columns (total 26 columns):\n",
      " #   Column                   Non-Null Count  Dtype  \n",
      "---  ------                   --------------  -----  \n",
      " 0   rank                     2476 non-null   int64  \n",
      " 1   final_worth              2476 non-null   int64  \n",
      " 2   name                     2476 non-null   object \n",
      " 3   age                      2427 non-null   float64\n",
      " 4   country                  2476 non-null   object \n",
      " 5   city                     2447 non-null   object \n",
      " 6   industries               2476 non-null   object \n",
      " 7   citizenship_country      2476 non-null   object \n",
      " 8   self_made                2476 non-null   bool   \n",
      " 9   gender                   2476 non-null   object \n",
      " 10  state                    753 non-null    object \n",
      " 11  state_region             747 non-null    object \n",
      " 12  cpi_country              2456 non-null   float64\n",
      " 13  cpi_change_country       2456 non-null   float64\n",
      " 14  gdp_country              2476 non-null   float64\n",
      " 15  tertiary_ed_enroll       2458 non-null   float64\n",
      " 16  primary_ed_enroll        2459 non-null   float64\n",
      " 17  life_expectancy_country  2458 non-null   float64\n",
      " 18  total_tax_rate_country   2458 non-null   float64\n",
      " 19  population_country       2476 non-null   float64\n",
      " 20  latitude_country         2476 non-null   float64\n",
      " 21  longitude_country        2476 non-null   float64\n",
      " 22  industries_total         2476 non-null   int64  \n",
      " 23  country_total            2476 non-null   float64\n",
      " 24  wealth_category          2476 non-null   object \n",
      " 25  age_category             2476 non-null   object \n",
      "dtypes: bool(1), float64(12), int64(3), object(10)\n",
      "memory usage: 505.4+ KB\n"
     ]
    }
   ],
   "source": [
    "df_gdp.info()"
   ]
  },
  {
   "cell_type": "code",
   "execution_count": 52,
   "id": "5336f45d",
   "metadata": {},
   "outputs": [],
   "source": [
    "# Reshape the variables into NumPy arrays and put them into separate objects using the new subset.\n",
    "\n",
    "X = df_gdp['gdp_country'].values.reshape(-1,1)\n",
    "y = df_gdp['country_total'].values.reshape(-1,1)"
   ]
  },
  {
   "cell_type": "code",
   "execution_count": 53,
   "id": "db1260fe",
   "metadata": {},
   "outputs": [
    {
     "data": {
      "text/plain": [
       "array([[2.71551827e+12],\n",
       "       [2.14277000e+13],\n",
       "       [2.14277000e+13],\n",
       "       ...,\n",
       "       [1.99100000e+13],\n",
       "       [1.99100000e+13],\n",
       "       [3.76795509e+11]])"
      ]
     },
     "execution_count": 53,
     "metadata": {},
     "output_type": "execute_result"
    }
   ],
   "source": [
    "X"
   ]
  },
  {
   "cell_type": "code",
   "execution_count": 54,
   "id": "3d55f56d",
   "metadata": {},
   "outputs": [
    {
     "data": {
      "text/plain": [
       "array([[ 35.],\n",
       "       [754.],\n",
       "       [754.],\n",
       "       ...,\n",
       "       [523.],\n",
       "       [523.],\n",
       "       [ 14.]])"
      ]
     },
     "execution_count": 54,
     "metadata": {},
     "output_type": "execute_result"
    }
   ],
   "source": [
    "y"
   ]
  },
  {
   "cell_type": "code",
   "execution_count": 55,
   "id": "034826b0",
   "metadata": {},
   "outputs": [],
   "source": [
    "# Again, split data into a training set and a test set\n",
    "\n",
    "X_train, X_test, y_train, y_test = train_test_split(X, y, test_size=0.3, random_state=0)"
   ]
  },
  {
   "cell_type": "code",
   "execution_count": 56,
   "id": "ec54084c",
   "metadata": {},
   "outputs": [],
   "source": [
    "# Again, create a regression object\n",
    "\n",
    "regression = LinearRegression()"
   ]
  },
  {
   "cell_type": "code",
   "execution_count": 57,
   "id": "21df6b3a",
   "metadata": {},
   "outputs": [
    {
     "data": {
      "text/html": [
       "<style>#sk-container-id-1 {color: black;}#sk-container-id-1 pre{padding: 0;}#sk-container-id-1 div.sk-toggleable {background-color: white;}#sk-container-id-1 label.sk-toggleable__label {cursor: pointer;display: block;width: 100%;margin-bottom: 0;padding: 0.3em;box-sizing: border-box;text-align: center;}#sk-container-id-1 label.sk-toggleable__label-arrow:before {content: \"▸\";float: left;margin-right: 0.25em;color: #696969;}#sk-container-id-1 label.sk-toggleable__label-arrow:hover:before {color: black;}#sk-container-id-1 div.sk-estimator:hover label.sk-toggleable__label-arrow:before {color: black;}#sk-container-id-1 div.sk-toggleable__content {max-height: 0;max-width: 0;overflow: hidden;text-align: left;background-color: #f0f8ff;}#sk-container-id-1 div.sk-toggleable__content pre {margin: 0.2em;color: black;border-radius: 0.25em;background-color: #f0f8ff;}#sk-container-id-1 input.sk-toggleable__control:checked~div.sk-toggleable__content {max-height: 200px;max-width: 100%;overflow: auto;}#sk-container-id-1 input.sk-toggleable__control:checked~label.sk-toggleable__label-arrow:before {content: \"▾\";}#sk-container-id-1 div.sk-estimator input.sk-toggleable__control:checked~label.sk-toggleable__label {background-color: #d4ebff;}#sk-container-id-1 div.sk-label input.sk-toggleable__control:checked~label.sk-toggleable__label {background-color: #d4ebff;}#sk-container-id-1 input.sk-hidden--visually {border: 0;clip: rect(1px 1px 1px 1px);clip: rect(1px, 1px, 1px, 1px);height: 1px;margin: -1px;overflow: hidden;padding: 0;position: absolute;width: 1px;}#sk-container-id-1 div.sk-estimator {font-family: monospace;background-color: #f0f8ff;border: 1px dotted black;border-radius: 0.25em;box-sizing: border-box;margin-bottom: 0.5em;}#sk-container-id-1 div.sk-estimator:hover {background-color: #d4ebff;}#sk-container-id-1 div.sk-parallel-item::after {content: \"\";width: 100%;border-bottom: 1px solid gray;flex-grow: 1;}#sk-container-id-1 div.sk-label:hover label.sk-toggleable__label {background-color: #d4ebff;}#sk-container-id-1 div.sk-serial::before {content: \"\";position: absolute;border-left: 1px solid gray;box-sizing: border-box;top: 0;bottom: 0;left: 50%;z-index: 0;}#sk-container-id-1 div.sk-serial {display: flex;flex-direction: column;align-items: center;background-color: white;padding-right: 0.2em;padding-left: 0.2em;position: relative;}#sk-container-id-1 div.sk-item {position: relative;z-index: 1;}#sk-container-id-1 div.sk-parallel {display: flex;align-items: stretch;justify-content: center;background-color: white;position: relative;}#sk-container-id-1 div.sk-item::before, #sk-container-id-1 div.sk-parallel-item::before {content: \"\";position: absolute;border-left: 1px solid gray;box-sizing: border-box;top: 0;bottom: 0;left: 50%;z-index: -1;}#sk-container-id-1 div.sk-parallel-item {display: flex;flex-direction: column;z-index: 1;position: relative;background-color: white;}#sk-container-id-1 div.sk-parallel-item:first-child::after {align-self: flex-end;width: 50%;}#sk-container-id-1 div.sk-parallel-item:last-child::after {align-self: flex-start;width: 50%;}#sk-container-id-1 div.sk-parallel-item:only-child::after {width: 0;}#sk-container-id-1 div.sk-dashed-wrapped {border: 1px dashed gray;margin: 0 0.4em 0.5em 0.4em;box-sizing: border-box;padding-bottom: 0.4em;background-color: white;}#sk-container-id-1 div.sk-label label {font-family: monospace;font-weight: bold;display: inline-block;line-height: 1.2em;}#sk-container-id-1 div.sk-label-container {text-align: center;}#sk-container-id-1 div.sk-container {/* jupyter's `normalize.less` sets `[hidden] { display: none; }` but bootstrap.min.css set `[hidden] { display: none !important; }` so we also need the `!important` here to be able to override the default hidden behavior on the sphinx rendered scikit-learn.org. See: https://github.com/scikit-learn/scikit-learn/issues/21755 */display: inline-block !important;position: relative;}#sk-container-id-1 div.sk-text-repr-fallback {display: none;}</style><div id=\"sk-container-id-1\" class=\"sk-top-container\"><div class=\"sk-text-repr-fallback\"><pre>LinearRegression()</pre><b>In a Jupyter environment, please rerun this cell to show the HTML representation or trust the notebook. <br />On GitHub, the HTML representation is unable to render, please try loading this page with nbviewer.org.</b></div><div class=\"sk-container\" hidden><div class=\"sk-item\"><div class=\"sk-estimator sk-toggleable\"><input class=\"sk-toggleable__control sk-hidden--visually\" id=\"sk-estimator-id-1\" type=\"checkbox\" checked><label for=\"sk-estimator-id-1\" class=\"sk-toggleable__label sk-toggleable__label-arrow\">LinearRegression</label><div class=\"sk-toggleable__content\"><pre>LinearRegression()</pre></div></div></div></div></div>"
      ],
      "text/plain": [
       "LinearRegression()"
      ]
     },
     "execution_count": 57,
     "metadata": {},
     "output_type": "execute_result"
    }
   ],
   "source": [
    "# Again, fit the regression object onto the training set\n",
    "\n",
    "regression.fit(X_train, y_train)"
   ]
  },
  {
   "cell_type": "code",
   "execution_count": 58,
   "id": "7883742c",
   "metadata": {},
   "outputs": [],
   "source": [
    "# Predict the values of y using x\n",
    "\n",
    "y_predicted = regression.predict(X_test)"
   ]
  },
  {
   "cell_type": "code",
   "execution_count": 59,
   "id": "be2355a7",
   "metadata": {},
   "outputs": [
    {
     "data": {
      "image/png": "[encoded data removed]",
      "text/plain": [
       "<Figure size 640x480 with 1 Axes>"
      ]
     },
     "metadata": {},
     "output_type": "display_data"
    }
   ],
   "source": [
    "# Create a plot that shows the regression line from the model on the test set.\n",
    "\n",
    "plot_test = plt\n",
    "plot_test.scatter(X_test, y_test, color='gray', s = 15)\n",
    "plot_test.plot(X_test, y_predicted, color='red', linewidth =3)\n",
    "plot_test.title('Country GDP vs. Total Billionaires (Test set)')\n",
    "plot_test.xlabel('Country GDP')\n",
    "plot_test.ylabel('Total Billionaires')\n",
    "plot_test.show()"
   ]
  },
  {
   "cell_type": "markdown",
   "id": "34da39d1",
   "metadata": {},
   "source": [
    "### The regression model seems to fit the data quite well. The data points do tend to group up and to the right somewhat along the line. They may be more scattered if we zoomed in more by removing the two countries with the high GDP and high number of billionaires (the US and China)."
   ]
  },
  {
   "cell_type": "markdown",
   "id": "635ca212",
   "metadata": {},
   "source": [
    "## 5. Check the model performance statistics—MSE and R2 score"
   ]
  },
  {
   "cell_type": "code",
   "execution_count": 60,
   "id": "b5d0294c",
   "metadata": {},
   "outputs": [],
   "source": [
    "# Create objects that contain the model summary statistics.\n",
    "\n",
    "rmse = mean_squared_error(y_test, y_predicted) \n",
    "r2 = r2_score(y_test, y_predicted) "
   ]
  },
  {
   "cell_type": "code",
   "execution_count": 61,
   "id": "0bbc6cfd",
   "metadata": {},
   "outputs": [
    {
     "name": "stdout",
     "output_type": "stream",
     "text": [
      "Slope: [[3.15881171e-11]]\n",
      "Mean squared error:  5146.326534256342\n",
      "R2 score:  0.9476070376310997\n"
     ]
    }
   ],
   "source": [
    "# Print the model summary statistics.\n",
    "\n",
    "print('Slope:' ,regression.coef_)\n",
    "print('Mean squared error: ', rmse)\n",
    "print('R2 score: ', r2)"
   ]
  },
  {
   "cell_type": "code",
   "execution_count": 62,
   "id": "54b442a5",
   "metadata": {},
   "outputs": [
    {
     "data": {
      "text/html": [
       "<div>\n",
       "<style scoped>\n",
       "    .dataframe tbody tr th:only-of-type {\n",
       "        vertical-align: middle;\n",
       "    }\n",
       "\n",
       "    .dataframe tbody tr th {\n",
       "        vertical-align: top;\n",
       "    }\n",
       "\n",
       "    .dataframe thead th {\n",
       "        text-align: right;\n",
       "    }\n",
       "</style>\n",
       "<table border=\"1\" class=\"dataframe\">\n",
       "  <thead>\n",
       "    <tr style=\"text-align: right;\">\n",
       "      <th></th>\n",
       "      <th>Actual</th>\n",
       "      <th>Predicted</th>\n",
       "    </tr>\n",
       "  </thead>\n",
       "  <tbody>\n",
       "    <tr>\n",
       "      <th>0</th>\n",
       "      <td>754.0</td>\n",
       "      <td>681.010097</td>\n",
       "    </tr>\n",
       "    <tr>\n",
       "      <th>1</th>\n",
       "      <td>754.0</td>\n",
       "      <td>681.010097</td>\n",
       "    </tr>\n",
       "    <tr>\n",
       "      <th>2</th>\n",
       "      <td>102.0</td>\n",
       "      <td>125.625612</td>\n",
       "    </tr>\n",
       "    <tr>\n",
       "      <th>3</th>\n",
       "      <td>43.0</td>\n",
       "      <td>48.141558</td>\n",
       "    </tr>\n",
       "    <tr>\n",
       "      <th>4</th>\n",
       "      <td>523.0</td>\n",
       "      <td>633.068812</td>\n",
       "    </tr>\n",
       "    <tr>\n",
       "      <th>5</th>\n",
       "      <td>157.0</td>\n",
       "      <td>86.625974</td>\n",
       "    </tr>\n",
       "    <tr>\n",
       "      <th>6</th>\n",
       "      <td>754.0</td>\n",
       "      <td>681.010097</td>\n",
       "    </tr>\n",
       "    <tr>\n",
       "      <th>7</th>\n",
       "      <td>523.0</td>\n",
       "      <td>633.068812</td>\n",
       "    </tr>\n",
       "    <tr>\n",
       "      <th>8</th>\n",
       "      <td>523.0</td>\n",
       "      <td>633.068812</td>\n",
       "    </tr>\n",
       "    <tr>\n",
       "      <th>9</th>\n",
       "      <td>157.0</td>\n",
       "      <td>86.625974</td>\n",
       "    </tr>\n",
       "    <tr>\n",
       "      <th>10</th>\n",
       "      <td>44.0</td>\n",
       "      <td>62.263893</td>\n",
       "    </tr>\n",
       "    <tr>\n",
       "      <th>11</th>\n",
       "      <td>523.0</td>\n",
       "      <td>633.068812</td>\n",
       "    </tr>\n",
       "    <tr>\n",
       "      <th>12</th>\n",
       "      <td>754.0</td>\n",
       "      <td>681.010097</td>\n",
       "    </tr>\n",
       "    <tr>\n",
       "      <th>13</th>\n",
       "      <td>754.0</td>\n",
       "      <td>681.010097</td>\n",
       "    </tr>\n",
       "    <tr>\n",
       "      <th>14</th>\n",
       "      <td>523.0</td>\n",
       "      <td>633.068812</td>\n",
       "    </tr>\n",
       "    <tr>\n",
       "      <th>15</th>\n",
       "      <td>102.0</td>\n",
       "      <td>125.625612</td>\n",
       "    </tr>\n",
       "    <tr>\n",
       "      <th>16</th>\n",
       "      <td>754.0</td>\n",
       "      <td>681.010097</td>\n",
       "    </tr>\n",
       "    <tr>\n",
       "      <th>17</th>\n",
       "      <td>754.0</td>\n",
       "      <td>681.010097</td>\n",
       "    </tr>\n",
       "    <tr>\n",
       "      <th>18</th>\n",
       "      <td>523.0</td>\n",
       "      <td>633.068812</td>\n",
       "    </tr>\n",
       "    <tr>\n",
       "      <th>19</th>\n",
       "      <td>523.0</td>\n",
       "      <td>633.068812</td>\n",
       "    </tr>\n",
       "    <tr>\n",
       "      <th>20</th>\n",
       "      <td>754.0</td>\n",
       "      <td>681.010097</td>\n",
       "    </tr>\n",
       "    <tr>\n",
       "      <th>21</th>\n",
       "      <td>25.0</td>\n",
       "      <td>27.979846</td>\n",
       "    </tr>\n",
       "    <tr>\n",
       "      <th>22</th>\n",
       "      <td>754.0</td>\n",
       "      <td>681.010097</td>\n",
       "    </tr>\n",
       "    <tr>\n",
       "      <th>23</th>\n",
       "      <td>754.0</td>\n",
       "      <td>681.010097</td>\n",
       "    </tr>\n",
       "    <tr>\n",
       "      <th>24</th>\n",
       "      <td>754.0</td>\n",
       "      <td>681.010097</td>\n",
       "    </tr>\n",
       "    <tr>\n",
       "      <th>25</th>\n",
       "      <td>754.0</td>\n",
       "      <td>681.010097</td>\n",
       "    </tr>\n",
       "    <tr>\n",
       "      <th>26</th>\n",
       "      <td>754.0</td>\n",
       "      <td>681.010097</td>\n",
       "    </tr>\n",
       "    <tr>\n",
       "      <th>27</th>\n",
       "      <td>754.0</td>\n",
       "      <td>681.010097</td>\n",
       "    </tr>\n",
       "    <tr>\n",
       "      <th>28</th>\n",
       "      <td>754.0</td>\n",
       "      <td>681.010097</td>\n",
       "    </tr>\n",
       "    <tr>\n",
       "      <th>29</th>\n",
       "      <td>523.0</td>\n",
       "      <td>633.068812</td>\n",
       "    </tr>\n",
       "  </tbody>\n",
       "</table>\n",
       "</div>"
      ],
      "text/plain": [
       "    Actual   Predicted\n",
       "0    754.0  681.010097\n",
       "1    754.0  681.010097\n",
       "2    102.0  125.625612\n",
       "3     43.0   48.141558\n",
       "4    523.0  633.068812\n",
       "5    157.0   86.625974\n",
       "6    754.0  681.010097\n",
       "7    523.0  633.068812\n",
       "8    523.0  633.068812\n",
       "9    157.0   86.625974\n",
       "10    44.0   62.263893\n",
       "11   523.0  633.068812\n",
       "12   754.0  681.010097\n",
       "13   754.0  681.010097\n",
       "14   523.0  633.068812\n",
       "15   102.0  125.625612\n",
       "16   754.0  681.010097\n",
       "17   754.0  681.010097\n",
       "18   523.0  633.068812\n",
       "19   523.0  633.068812\n",
       "20   754.0  681.010097\n",
       "21    25.0   27.979846\n",
       "22   754.0  681.010097\n",
       "23   754.0  681.010097\n",
       "24   754.0  681.010097\n",
       "25   754.0  681.010097\n",
       "26   754.0  681.010097\n",
       "27   754.0  681.010097\n",
       "28   754.0  681.010097\n",
       "29   523.0  633.068812"
      ]
     },
     "execution_count": 62,
     "metadata": {},
     "output_type": "execute_result"
    }
   ],
   "source": [
    "# Compare the predicted y values with the actual y values in a dataframe.\n",
    "\n",
    "data = pd.DataFrame({'Actual' : y_test.flatten(), 'Predicted' : y_predicted.flatten()})\n",
    "data.head(30)"
   ]
  },
  {
   "cell_type": "markdown",
   "id": "e4a2d8f9",
   "metadata": {},
   "source": [
    "#### *Compare how the regression fits the training set*"
   ]
  },
  {
   "cell_type": "code",
   "execution_count": 63,
   "id": "6e4bc7e4",
   "metadata": {},
   "outputs": [],
   "source": [
    "# Predicting the X_train\n",
    "\n",
    "y_predicted_train = regression.predict(X_train)"
   ]
  },
  {
   "cell_type": "code",
   "execution_count": 64,
   "id": "29f4277a",
   "metadata": {},
   "outputs": [],
   "source": [
    "rmse = mean_squared_error(y_train, y_predicted_train)\n",
    "r2 = r2_score(y_train, y_predicted_train)"
   ]
  },
  {
   "cell_type": "code",
   "execution_count": 65,
   "id": "bf039533",
   "metadata": {},
   "outputs": [
    {
     "name": "stdout",
     "output_type": "stream",
     "text": [
      "Slope: [[3.15881171e-11]]\n",
      "Mean squared error:  4910.138683844542\n",
      "R2 score:  0.9489048741853465\n"
     ]
    }
   ],
   "source": [
    "print('Slope:' ,regression.coef_)\n",
    "print('Mean squared error: ', rmse)\n",
    "print('R2 score: ', r2)"
   ]
  },
  {
   "cell_type": "code",
   "execution_count": 66,
   "id": "f27683cf",
   "metadata": {},
   "outputs": [
    {
     "data": {
      "image/png": "[encoded data removed]",
      "text/plain": [
       "<Figure size 640x480 with 1 Axes>"
      ]
     },
     "metadata": {},
     "output_type": "display_data"
    }
   ],
   "source": [
    "# Visualizing the training set results.\n",
    "\n",
    "plot_test = plt\n",
    "plot_test.scatter(X_train, y_train, color='green', s = 15)\n",
    "plot_test.plot(X_train, y_predicted_train, color='red', linewidth =3)\n",
    "plot_test.title('Country GDP vs Total Billionaires (Train set)')\n",
    "plot_test.xlabel('Country GDP')\n",
    "plot_test.ylabel('Total Billionaires')\n",
    "plot_test.show()"
   ]
  },
  {
   "cell_type": "markdown",
   "id": "7970555e",
   "metadata": {},
   "source": [
    "## I think the model performed well on the test. The training set and the test set had very similar slopes, RMSEs, and R2 scores. There does seem to be a high correlation between a country's GDP and the number of billionaires in that country.\n",
    "\n",
    "## Possible bias: there are 2,476 records that were analyzed here. That may not be enough observations to produce a reliable regression model. Also, there are definitately data points that are above or below the regression line by a noticable amount. There are surely other factors that affect the number of billionaires in a country, but this does seem to be a strong relationship.\n",
    "\n",
    "## I considered removing the two biggest outliers, the US and China, to see how the model fit on the rest of the data. However, I'm hesitant to do that because 1) they do fit the model well: they have the largest GDPs and the highest number of billionaires, and 2) since those two countries together have more billionaires than the rest of the countries combined, the majority of the data would have to be excluded to perform that analysis. This could greatly distort reality."
   ]
  },
  {
   "cell_type": "code",
   "execution_count": null,
   "id": "8b6cb085",
   "metadata": {},
   "outputs": [],
   "source": []
  }
 ],
 "metadata": {
  "kernelspec": {
   "display_name": "Python 3 (ipykernel)",
   "language": "python",
   "name": "python3"
  },
  "language_info": {
   "codemirror_mode": {
    "name": "ipython",
    "version": 3
   },
   "file_extension": ".py",
   "mimetype": "text/x-python",
   "name": "python",
   "nbconvert_exporter": "python",
   "pygments_lexer": "ipython3",
   "version": "3.11.4"
  }
 },
 "nbformat": 4,
 "nbformat_minor": 5
}
